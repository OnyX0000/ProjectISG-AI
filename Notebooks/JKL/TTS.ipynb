{
 "cells": [
  {
   "cell_type": "markdown",
   "metadata": {},
   "source": [
    "# GCP TTS API "
   ]
  },
  {
   "cell_type": "code",
   "execution_count": null,
   "metadata": {},
   "outputs": [],
   "source": [
    "import os\n",
    "from langchain_openai import OpenAIEmbeddings\n",
    "from sklearn.metrics.pairwise import cosine_similarity\n",
    "from google.cloud import texttospeech_v1 as tts\n",
    "from dotenv import load_dotenv\n",
    "import re\n",
    "\n",
    "load_dotenv()\n",
    "\n",
    "# 스크립트와 키워드\n",
    "script = \"\"\"이제 최초의 발표하는 인공지능 모델인 오인용에 대해 소개하겠습니다. 이 프로젝트는 중요한 내용을 중심으로 발표용 대본을 생성하는 기능을 가지고 있습니다. AI 음성 합성을 활용하여 자동으로 발표할 수 있는 기능을 제공함으로써, 기업, 연구자, 학생 등이 보다 효율적으로 정보를 활용할 수 있게 됩니다. 이 시스템은 일관된 발표 퀄리티를 유지하며, 발표에 드는 시간을 단축하는 기대 효과를 가지고 있습니다.\n",
    "\n",
    "다음은 프로젝트 기획에 대해 설명드리겠습니다. 이 슬라이드에서는 프로젝트의 전반적인 기획 방향과 목표를 간략히 정리하겠습니다. 프로젝트의 기획은 체계적인 진행을 위해 매우 중요합니다.\"\"\"\n",
    "input_keywords = [\"인공지능\"]\n",
    "\n",
    "# 문장 및 단어 추출\n",
    "sentences = re.split(r'(?<=[.?!])\\s+', script.strip())\n",
    "tokenized_sentences = [re.findall(r'\\w+', s) for s in sentences]\n",
    "unique_words = sorted(set(word for sent in tokenized_sentences for word in sent))\n",
    "\n",
    "# 임베딩\n",
    "embedder = OpenAIEmbeddings()\n",
    "word_embeddings = embedder.embed_documents(unique_words)\n",
    "keyword_embeddings = [embedder.embed_query(k) for k in input_keywords]\n",
    "\n",
    "# 유사도 기반 상위 3단어 추출 \n",
    "similarities = {}\n",
    "for word, w_emb in zip(unique_words, word_embeddings):\n",
    "    sims = [cosine_similarity([w_emb], [k_emb])[0][0] for k_emb in keyword_embeddings]\n",
    "    similarities[word] = max(sims)\n",
    "\n",
    "top_emphasized_words = {word for word, _ in sorted(similarities.items(), key=lambda x: x[1], reverse=True)[:3]}\n",
    "print('강조할 단어 : ', top_emphasized_words)\n",
    "\n",
    "# SSML 생성 (emphasis + prosody)\n",
    "ssml_outputs = []\n",
    "for idx, sent in enumerate(sentences):\n",
    "    words = re.split(r'(\\W+)', sent)\n",
    "    processed = []\n",
    "    for w in words:\n",
    "        if w in top_emphasized_words:\n",
    "            emphasized = (\n",
    "                f'<prosody pitch=\"+10%\" volume=\"+2dB\">'\n",
    "                f'<emphasis level=\"strong\">{w}!</emphasis>'\n",
    "                f'</prosody>'\n",
    "            )\n",
    "            processed.append(emphasized)\n",
    "        else:\n",
    "            processed.append(w)\n",
    "    ssml = f\"<speak>{''.join(processed).strip()}</speak>\"\n",
    "    ssml_outputs.append((ssml, f\"output_{idx}.wav\"))\n",
    "\n",
    "# Google TTS 요청\n",
    "client = tts.TextToSpeechClient()\n",
    "voice = tts.VoiceSelectionParams(language_code=\"ko-KR\", name=\"ko-KR-Standard-B\") \n",
    "audio_config = tts.AudioConfig(audio_encoding=tts.AudioEncoding.LINEAR16)\n",
    "\n",
    "# WAV 생성\n",
    "for ssml, filename in ssml_outputs:\n",
    "    print(f\"[SSML 미리보기]\\n{ssml}\\n→ {filename}\\n\")\n",
    "    response = client.synthesize_speech(\n",
    "        input=tts.SynthesisInput(ssml=ssml),\n",
    "        voice=voice,\n",
    "        audio_config=audio_config\n",
    "    )\n",
    "    with open(filename, \"wb\") as out:\n",
    "        out.write(response.audio_content)\n",
    "        print(f\"{filename} 저장 완료\\n\")"
   ]
  },
  {
   "cell_type": "markdown",
   "metadata": {},
   "source": [
    "# Youtube 영상에서 WAV 추출"
   ]
  },
  {
   "cell_type": "code",
   "execution_count": 35,
   "metadata": {},
   "outputs": [],
   "source": [
    "import yt_dlp\n",
    "from pydub import AudioSegment\n",
    "import os\n",
    "\n",
    "def time_convert(time_str):\n",
    "    minutes = time_str // 100  \n",
    "    seconds = time_str % 100   \n",
    "    return minutes * 60 + seconds\n",
    "\n",
    "def download_audio(url, save_dir, clip_idx, start=None, end=None):\n",
    "    os.makedirs(save_dir, exist_ok=True)\n",
    "\n",
    "    # 확장자 포함된 yt-dlp 저장용 임시 파일 경로\n",
    "    temp_template = os.path.join(save_dir, f\"CTS_temp_{clip_idx}.%(ext)s\")\n",
    "    temp_wav = os.path.join(save_dir, f\"CTS_temp_{clip_idx}.wav\")\n",
    "\n",
    "    ydl_opts = {\n",
    "        'format': 'bestaudio/best',\n",
    "        'postprocessors': [{\n",
    "            'key': 'FFmpegExtractAudio',\n",
    "            'preferredcodec': 'wav',\n",
    "            'preferredquality': '192',\n",
    "        }],\n",
    "        'outtmpl': temp_template,\n",
    "        'quiet': True,\n",
    "        'force_ipv4': True,\n",
    "    }\n",
    "\n",
    "    with yt_dlp.YoutubeDL(ydl_opts) as ydl:\n",
    "        ydl.download([url])\n",
    "\n",
    "    # 자르고 저장\n",
    "    audio = AudioSegment.from_file(temp_wav, format=\"wav\")\n",
    "    if start and end:\n",
    "        start_ms = time_convert(start) * 1000\n",
    "        end_ms = time_convert(end) * 1000\n",
    "        audio = audio[start_ms:end_ms]\n",
    "\n",
    "    # 최종 파일명: cheo_1.wav, cheo_2.wav ...\n",
    "    final_path = os.path.join(save_dir, f\"LMN_{clip_idx}_ver.2.wav\")\n",
    "    audio.export(final_path, format=\"wav\")\n",
    "\n",
    "    os.remove(temp_wav)\n",
    "    return audio"
   ]
  },
  {
   "cell_type": "code",
   "execution_count": null,
   "metadata": {},
   "outputs": [
    {
     "name": "stdout",
     "output_type": "stream",
     "text": [
      "                                                           \r"
     ]
    },
    {
     "name": "stderr",
     "output_type": "stream",
     "text": [
      "WARNING: [youtube] LzYlATHKZFk: Some tv client https formats have been skipped as they are DRM protected. The current session may have an experiment that applies DRM to all videos on the tv client. See  https://github.com/yt-dlp/yt-dlp/issues/12563  for more details.\n",
      "WARNING: [youtube] LzYlATHKZFk: Some web client https formats have been skipped as they are missing a url. YouTube is forcing SABR streaming for this client. See  https://github.com/yt-dlp/yt-dlp/issues/12482  for more details\n"
     ]
    },
    {
     "ename": "KeyboardInterrupt",
     "evalue": "",
     "output_type": "error",
     "traceback": [
      "\u001b[31m---------------------------------------------------------------------------\u001b[39m",
      "\u001b[31mKeyboardInterrupt\u001b[39m                         Traceback (most recent call last)",
      "\u001b[36mCell\u001b[39m\u001b[36m \u001b[39m\u001b[32mIn[36]\u001b[39m\u001b[32m, line 12\u001b[39m\n\u001b[32m     10\u001b[39m start += time\n\u001b[32m     11\u001b[39m end += time\n\u001b[32m---> \u001b[39m\u001b[32m12\u001b[39m audio = \u001b[43mdownload_audio\u001b[49m\u001b[43m(\u001b[49m\n\u001b[32m     13\u001b[39m \u001b[43m    \u001b[49m\u001b[43murl\u001b[49m\u001b[43m \u001b[49m\u001b[43m=\u001b[49m\u001b[43m \u001b[49m\u001b[43murl2\u001b[49m\u001b[43m,\u001b[49m\n\u001b[32m     14\u001b[39m \u001b[43m    \u001b[49m\u001b[43msave_dir\u001b[49m\u001b[43m=\u001b[49m\u001b[43msave_dir\u001b[49m\u001b[43m,\u001b[49m\n\u001b[32m     15\u001b[39m \u001b[43m    \u001b[49m\u001b[43mclip_idx\u001b[49m\u001b[43m=\u001b[49m\u001b[43mi\u001b[49m\u001b[43m,\u001b[49m\n\u001b[32m     16\u001b[39m \u001b[43m    \u001b[49m\u001b[43mstart\u001b[49m\u001b[43m=\u001b[49m\u001b[43mstart\u001b[49m\u001b[43m,\u001b[49m\n\u001b[32m     17\u001b[39m \u001b[43m    \u001b[49m\u001b[43mend\u001b[49m\u001b[43m=\u001b[49m\u001b[43mend\u001b[49m\n\u001b[32m     18\u001b[39m \u001b[43m\u001b[49m\u001b[43m)\u001b[49m\n\u001b[32m     19\u001b[39m i += \u001b[32m1\u001b[39m\n\u001b[32m     20\u001b[39m audio_data.append(audio)\n",
      "\u001b[36mCell\u001b[39m\u001b[36m \u001b[39m\u001b[32mIn[35]\u001b[39m\u001b[32m, line 30\u001b[39m, in \u001b[36mdownload_audio\u001b[39m\u001b[34m(url, save_dir, clip_idx, start, end)\u001b[39m\n\u001b[32m     17\u001b[39m ydl_opts = {\n\u001b[32m     18\u001b[39m     \u001b[33m'\u001b[39m\u001b[33mformat\u001b[39m\u001b[33m'\u001b[39m: \u001b[33m'\u001b[39m\u001b[33mbestaudio/best\u001b[39m\u001b[33m'\u001b[39m,\n\u001b[32m     19\u001b[39m     \u001b[33m'\u001b[39m\u001b[33mpostprocessors\u001b[39m\u001b[33m'\u001b[39m: [{\n\u001b[32m   (...)\u001b[39m\u001b[32m     26\u001b[39m     \u001b[33m'\u001b[39m\u001b[33mforce_ipv4\u001b[39m\u001b[33m'\u001b[39m: \u001b[38;5;28;01mTrue\u001b[39;00m,\n\u001b[32m     27\u001b[39m }\n\u001b[32m     29\u001b[39m \u001b[38;5;28;01mwith\u001b[39;00m yt_dlp.YoutubeDL(ydl_opts) \u001b[38;5;28;01mas\u001b[39;00m ydl:\n\u001b[32m---> \u001b[39m\u001b[32m30\u001b[39m     \u001b[43mydl\u001b[49m\u001b[43m.\u001b[49m\u001b[43mdownload\u001b[49m\u001b[43m(\u001b[49m\u001b[43m[\u001b[49m\u001b[43murl\u001b[49m\u001b[43m]\u001b[49m\u001b[43m)\u001b[49m\n\u001b[32m     32\u001b[39m \u001b[38;5;66;03m# 자르고 저장\u001b[39;00m\n\u001b[32m     33\u001b[39m audio = AudioSegment.from_file(temp_wav, \u001b[38;5;28mformat\u001b[39m=\u001b[33m\"\u001b[39m\u001b[33mwav\u001b[39m\u001b[33m\"\u001b[39m)\n",
      "\u001b[36mFile \u001b[39m\u001b[32mc:\\Users\\user\\Documents\\GitHub\\zonos\\Lib\\site-packages\\yt_dlp\\YoutubeDL.py:3643\u001b[39m, in \u001b[36mYoutubeDL.download\u001b[39m\u001b[34m(self, url_list)\u001b[39m\n\u001b[32m   3640\u001b[39m     \u001b[38;5;28;01mraise\u001b[39;00m SameFileError(outtmpl)\n\u001b[32m   3642\u001b[39m \u001b[38;5;28;01mfor\u001b[39;00m url \u001b[38;5;129;01min\u001b[39;00m url_list:\n\u001b[32m-> \u001b[39m\u001b[32m3643\u001b[39m     \u001b[38;5;28;43mself\u001b[39;49m\u001b[43m.\u001b[49m\u001b[43m__download_wrapper\u001b[49m\u001b[43m(\u001b[49m\u001b[38;5;28;43mself\u001b[39;49m\u001b[43m.\u001b[49m\u001b[43mextract_info\u001b[49m\u001b[43m)\u001b[49m\u001b[43m(\u001b[49m\n\u001b[32m   3644\u001b[39m \u001b[43m        \u001b[49m\u001b[43murl\u001b[49m\u001b[43m,\u001b[49m\u001b[43m \u001b[49m\u001b[43mforce_generic_extractor\u001b[49m\u001b[43m=\u001b[49m\u001b[38;5;28;43mself\u001b[39;49m\u001b[43m.\u001b[49m\u001b[43mparams\u001b[49m\u001b[43m.\u001b[49m\u001b[43mget\u001b[49m\u001b[43m(\u001b[49m\u001b[33;43m'\u001b[39;49m\u001b[33;43mforce_generic_extractor\u001b[39;49m\u001b[33;43m'\u001b[39;49m\u001b[43m,\u001b[49m\u001b[43m \u001b[49m\u001b[38;5;28;43;01mFalse\u001b[39;49;00m\u001b[43m)\u001b[49m\u001b[43m)\u001b[49m\n\u001b[32m   3646\u001b[39m \u001b[38;5;28;01mreturn\u001b[39;00m \u001b[38;5;28mself\u001b[39m._download_retcode\n",
      "\u001b[36mFile \u001b[39m\u001b[32mc:\\Users\\user\\Documents\\GitHub\\zonos\\Lib\\site-packages\\yt_dlp\\YoutubeDL.py:3616\u001b[39m, in \u001b[36mYoutubeDL.__download_wrapper.<locals>.wrapper\u001b[39m\u001b[34m(*args, **kwargs)\u001b[39m\n\u001b[32m   3613\u001b[39m \u001b[38;5;129m@functools\u001b[39m.wraps(func)\n\u001b[32m   3614\u001b[39m \u001b[38;5;28;01mdef\u001b[39;00m\u001b[38;5;250m \u001b[39m\u001b[34mwrapper\u001b[39m(*args, **kwargs):\n\u001b[32m   3615\u001b[39m     \u001b[38;5;28;01mtry\u001b[39;00m:\n\u001b[32m-> \u001b[39m\u001b[32m3616\u001b[39m         res = \u001b[43mfunc\u001b[49m\u001b[43m(\u001b[49m\u001b[43m*\u001b[49m\u001b[43margs\u001b[49m\u001b[43m,\u001b[49m\u001b[43m \u001b[49m\u001b[43m*\u001b[49m\u001b[43m*\u001b[49m\u001b[43mkwargs\u001b[49m\u001b[43m)\u001b[49m\n\u001b[32m   3617\u001b[39m     \u001b[38;5;28;01mexcept\u001b[39;00m CookieLoadError:\n\u001b[32m   3618\u001b[39m         \u001b[38;5;28;01mraise\u001b[39;00m\n",
      "\u001b[36mFile \u001b[39m\u001b[32mc:\\Users\\user\\Documents\\GitHub\\zonos\\Lib\\site-packages\\yt_dlp\\YoutubeDL.py:1651\u001b[39m, in \u001b[36mYoutubeDL.extract_info\u001b[39m\u001b[34m(self, url, download, ie_key, extra_info, process, force_generic_extractor)\u001b[39m\n\u001b[32m   1649\u001b[39m             \u001b[38;5;28;01mraise\u001b[39;00m ExistingVideoReached\n\u001b[32m   1650\u001b[39m         \u001b[38;5;28;01mbreak\u001b[39;00m\n\u001b[32m-> \u001b[39m\u001b[32m1651\u001b[39m     \u001b[38;5;28;01mreturn\u001b[39;00m \u001b[38;5;28;43mself\u001b[39;49m\u001b[43m.\u001b[49m\u001b[43m__extract_info\u001b[49m\u001b[43m(\u001b[49m\u001b[43murl\u001b[49m\u001b[43m,\u001b[49m\u001b[43m \u001b[49m\u001b[38;5;28;43mself\u001b[39;49m\u001b[43m.\u001b[49m\u001b[43mget_info_extractor\u001b[49m\u001b[43m(\u001b[49m\u001b[43mkey\u001b[49m\u001b[43m)\u001b[49m\u001b[43m,\u001b[49m\u001b[43m \u001b[49m\u001b[43mdownload\u001b[49m\u001b[43m,\u001b[49m\u001b[43m \u001b[49m\u001b[43mextra_info\u001b[49m\u001b[43m,\u001b[49m\u001b[43m \u001b[49m\u001b[43mprocess\u001b[49m\u001b[43m)\u001b[49m\n\u001b[32m   1652\u001b[39m \u001b[38;5;28;01melse\u001b[39;00m:\n\u001b[32m   1653\u001b[39m     extractors_restricted = \u001b[38;5;28mself\u001b[39m.params.get(\u001b[33m'\u001b[39m\u001b[33mallowed_extractors\u001b[39m\u001b[33m'\u001b[39m) \u001b[38;5;129;01mnot\u001b[39;00m \u001b[38;5;129;01min\u001b[39;00m (\u001b[38;5;28;01mNone\u001b[39;00m, [\u001b[33m'\u001b[39m\u001b[33mdefault\u001b[39m\u001b[33m'\u001b[39m])\n",
      "\u001b[36mFile \u001b[39m\u001b[32mc:\\Users\\user\\Documents\\GitHub\\zonos\\Lib\\site-packages\\yt_dlp\\YoutubeDL.py:1662\u001b[39m, in \u001b[36mYoutubeDL._handle_extraction_exceptions.<locals>.wrapper\u001b[39m\u001b[34m(self, *args, **kwargs)\u001b[39m\n\u001b[32m   1660\u001b[39m \u001b[38;5;28;01mwhile\u001b[39;00m \u001b[38;5;28;01mTrue\u001b[39;00m:\n\u001b[32m   1661\u001b[39m     \u001b[38;5;28;01mtry\u001b[39;00m:\n\u001b[32m-> \u001b[39m\u001b[32m1662\u001b[39m         \u001b[38;5;28;01mreturn\u001b[39;00m \u001b[43mfunc\u001b[49m\u001b[43m(\u001b[49m\u001b[38;5;28;43mself\u001b[39;49m\u001b[43m,\u001b[49m\u001b[43m \u001b[49m\u001b[43m*\u001b[49m\u001b[43margs\u001b[49m\u001b[43m,\u001b[49m\u001b[43m \u001b[49m\u001b[43m*\u001b[49m\u001b[43m*\u001b[49m\u001b[43mkwargs\u001b[49m\u001b[43m)\u001b[49m\n\u001b[32m   1663\u001b[39m     \u001b[38;5;28;01mexcept\u001b[39;00m (CookieLoadError, DownloadCancelled, LazyList.IndexError, PagedList.IndexError):\n\u001b[32m   1664\u001b[39m         \u001b[38;5;28;01mraise\u001b[39;00m\n",
      "\u001b[36mFile \u001b[39m\u001b[32mc:\\Users\\user\\Documents\\GitHub\\zonos\\Lib\\site-packages\\yt_dlp\\YoutubeDL.py:1818\u001b[39m, in \u001b[36mYoutubeDL.__extract_info\u001b[39m\u001b[34m(self, url, ie, download, extra_info, process)\u001b[39m\n\u001b[32m   1816\u001b[39m \u001b[38;5;28;01mif\u001b[39;00m process:\n\u001b[32m   1817\u001b[39m     \u001b[38;5;28mself\u001b[39m._wait_for_video(ie_result)\n\u001b[32m-> \u001b[39m\u001b[32m1818\u001b[39m     \u001b[38;5;28;01mreturn\u001b[39;00m \u001b[38;5;28;43mself\u001b[39;49m\u001b[43m.\u001b[49m\u001b[43mprocess_ie_result\u001b[49m\u001b[43m(\u001b[49m\u001b[43mie_result\u001b[49m\u001b[43m,\u001b[49m\u001b[43m \u001b[49m\u001b[43mdownload\u001b[49m\u001b[43m,\u001b[49m\u001b[43m \u001b[49m\u001b[43mextra_info\u001b[49m\u001b[43m)\u001b[49m\n\u001b[32m   1819\u001b[39m \u001b[38;5;28;01melse\u001b[39;00m:\n\u001b[32m   1820\u001b[39m     \u001b[38;5;28;01mreturn\u001b[39;00m ie_result\n",
      "\u001b[36mFile \u001b[39m\u001b[32mc:\\Users\\user\\Documents\\GitHub\\zonos\\Lib\\site-packages\\yt_dlp\\YoutubeDL.py:1877\u001b[39m, in \u001b[36mYoutubeDL.process_ie_result\u001b[39m\u001b[34m(self, ie_result, download, extra_info)\u001b[39m\n\u001b[32m   1875\u001b[39m \u001b[38;5;28;01mif\u001b[39;00m result_type == \u001b[33m'\u001b[39m\u001b[33mvideo\u001b[39m\u001b[33m'\u001b[39m:\n\u001b[32m   1876\u001b[39m     \u001b[38;5;28mself\u001b[39m.add_extra_info(ie_result, extra_info)\n\u001b[32m-> \u001b[39m\u001b[32m1877\u001b[39m     ie_result = \u001b[38;5;28;43mself\u001b[39;49m\u001b[43m.\u001b[49m\u001b[43mprocess_video_result\u001b[49m\u001b[43m(\u001b[49m\u001b[43mie_result\u001b[49m\u001b[43m,\u001b[49m\u001b[43m \u001b[49m\u001b[43mdownload\u001b[49m\u001b[43m=\u001b[49m\u001b[43mdownload\u001b[49m\u001b[43m)\u001b[49m\n\u001b[32m   1878\u001b[39m     \u001b[38;5;28mself\u001b[39m._raise_pending_errors(ie_result)\n\u001b[32m   1879\u001b[39m     additional_urls = (ie_result \u001b[38;5;129;01mor\u001b[39;00m {}).get(\u001b[33m'\u001b[39m\u001b[33madditional_urls\u001b[39m\u001b[33m'\u001b[39m)\n",
      "\u001b[36mFile \u001b[39m\u001b[32mc:\\Users\\user\\Documents\\GitHub\\zonos\\Lib\\site-packages\\yt_dlp\\YoutubeDL.py:3049\u001b[39m, in \u001b[36mYoutubeDL.process_video_result\u001b[39m\u001b[34m(self, info_dict, download)\u001b[39m\n\u001b[32m   3047\u001b[39m downloaded_formats.append(new_info)\n\u001b[32m   3048\u001b[39m \u001b[38;5;28;01mtry\u001b[39;00m:\n\u001b[32m-> \u001b[39m\u001b[32m3049\u001b[39m     \u001b[38;5;28;43mself\u001b[39;49m\u001b[43m.\u001b[49m\u001b[43mprocess_info\u001b[49m\u001b[43m(\u001b[49m\u001b[43mnew_info\u001b[49m\u001b[43m)\u001b[49m\n\u001b[32m   3050\u001b[39m \u001b[38;5;28;01mexcept\u001b[39;00m MaxDownloadsReached:\n\u001b[32m   3051\u001b[39m     max_downloads_reached = \u001b[38;5;28;01mTrue\u001b[39;00m\n",
      "\u001b[36mFile \u001b[39m\u001b[32mc:\\Users\\user\\Documents\\GitHub\\zonos\\Lib\\site-packages\\yt_dlp\\YoutubeDL.py:185\u001b[39m, in \u001b[36m_catch_unsafe_extension_error.<locals>.wrapper\u001b[39m\u001b[34m(self, *args, **kwargs)\u001b[39m\n\u001b[32m    182\u001b[39m \u001b[38;5;129m@functools\u001b[39m.wraps(func)\n\u001b[32m    183\u001b[39m \u001b[38;5;28;01mdef\u001b[39;00m\u001b[38;5;250m \u001b[39m\u001b[34mwrapper\u001b[39m(\u001b[38;5;28mself\u001b[39m, *args, **kwargs):\n\u001b[32m    184\u001b[39m     \u001b[38;5;28;01mtry\u001b[39;00m:\n\u001b[32m--> \u001b[39m\u001b[32m185\u001b[39m         \u001b[38;5;28;01mreturn\u001b[39;00m \u001b[43mfunc\u001b[49m\u001b[43m(\u001b[49m\u001b[38;5;28;43mself\u001b[39;49m\u001b[43m,\u001b[49m\u001b[43m \u001b[49m\u001b[43m*\u001b[49m\u001b[43margs\u001b[49m\u001b[43m,\u001b[49m\u001b[43m \u001b[49m\u001b[43m*\u001b[49m\u001b[43m*\u001b[49m\u001b[43mkwargs\u001b[49m\u001b[43m)\u001b[49m\n\u001b[32m    186\u001b[39m     \u001b[38;5;28;01mexcept\u001b[39;00m _UnsafeExtensionError \u001b[38;5;28;01mas\u001b[39;00m error:\n\u001b[32m    187\u001b[39m         \u001b[38;5;28mself\u001b[39m.report_error(\n\u001b[32m    188\u001b[39m             \u001b[33mf\u001b[39m\u001b[33m'\u001b[39m\u001b[33mThe extracted extension (\u001b[39m\u001b[38;5;132;01m{\u001b[39;00merror.extension\u001b[38;5;132;01m!r}\u001b[39;00m\u001b[33m) is unusual \u001b[39m\u001b[33m'\u001b[39m\n\u001b[32m    189\u001b[39m             \u001b[33m'\u001b[39m\u001b[33mand will be skipped for safety reasons. \u001b[39m\u001b[33m'\u001b[39m\n\u001b[32m    190\u001b[39m             \u001b[33mf\u001b[39m\u001b[33m'\u001b[39m\u001b[33mIf you believe this is an error\u001b[39m\u001b[38;5;132;01m{\u001b[39;00mbug_reports_message(\u001b[33m\"\u001b[39m\u001b[33m,\u001b[39m\u001b[33m\"\u001b[39m)\u001b[38;5;132;01m}\u001b[39;00m\u001b[33m'\u001b[39m)\n",
      "\u001b[36mFile \u001b[39m\u001b[32mc:\\Users\\user\\Documents\\GitHub\\zonos\\Lib\\site-packages\\yt_dlp\\YoutubeDL.py:3517\u001b[39m, in \u001b[36mYoutubeDL.process_info\u001b[39m\u001b[34m(self, info_dict)\u001b[39m\n\u001b[32m   3513\u001b[39m dl_filename = existing_video_file(full_filename, temp_filename)\n\u001b[32m   3514\u001b[39m \u001b[38;5;28;01mif\u001b[39;00m dl_filename \u001b[38;5;129;01mis\u001b[39;00m \u001b[38;5;28;01mNone\u001b[39;00m \u001b[38;5;129;01mor\u001b[39;00m dl_filename == temp_filename:\n\u001b[32m   3515\u001b[39m     \u001b[38;5;66;03m# dl_filename == temp_filename could mean that the file was partially downloaded with --no-part.\u001b[39;00m\n\u001b[32m   3516\u001b[39m     \u001b[38;5;66;03m# So we should try to resume the download\u001b[39;00m\n\u001b[32m-> \u001b[39m\u001b[32m3517\u001b[39m     success, real_download = \u001b[38;5;28;43mself\u001b[39;49m\u001b[43m.\u001b[49m\u001b[43mdl\u001b[49m\u001b[43m(\u001b[49m\u001b[43mtemp_filename\u001b[49m\u001b[43m,\u001b[49m\u001b[43m \u001b[49m\u001b[43minfo_dict\u001b[49m\u001b[43m)\u001b[49m\n\u001b[32m   3518\u001b[39m     info_dict[\u001b[33m'\u001b[39m\u001b[33m__real_download\u001b[39m\u001b[33m'\u001b[39m] = real_download\n\u001b[32m   3519\u001b[39m \u001b[38;5;28;01melse\u001b[39;00m:\n",
      "\u001b[36mFile \u001b[39m\u001b[32mc:\\Users\\user\\Documents\\GitHub\\zonos\\Lib\\site-packages\\yt_dlp\\YoutubeDL.py:3237\u001b[39m, in \u001b[36mYoutubeDL.dl\u001b[39m\u001b[34m(self, name, info, subtitle, test)\u001b[39m\n\u001b[32m   3235\u001b[39m \u001b[38;5;28;01mif\u001b[39;00m new_info.get(\u001b[33m'\u001b[39m\u001b[33mhttp_headers\u001b[39m\u001b[33m'\u001b[39m) \u001b[38;5;129;01mis\u001b[39;00m \u001b[38;5;28;01mNone\u001b[39;00m:\n\u001b[32m   3236\u001b[39m     new_info[\u001b[33m'\u001b[39m\u001b[33mhttp_headers\u001b[39m\u001b[33m'\u001b[39m] = \u001b[38;5;28mself\u001b[39m._calc_headers(new_info)\n\u001b[32m-> \u001b[39m\u001b[32m3237\u001b[39m \u001b[38;5;28;01mreturn\u001b[39;00m \u001b[43mfd\u001b[49m\u001b[43m.\u001b[49m\u001b[43mdownload\u001b[49m\u001b[43m(\u001b[49m\u001b[43mname\u001b[49m\u001b[43m,\u001b[49m\u001b[43m \u001b[49m\u001b[43mnew_info\u001b[49m\u001b[43m,\u001b[49m\u001b[43m \u001b[49m\u001b[43msubtitle\u001b[49m\u001b[43m)\u001b[49m\n",
      "\u001b[36mFile \u001b[39m\u001b[32mc:\\Users\\user\\Documents\\GitHub\\zonos\\Lib\\site-packages\\yt_dlp\\downloader\\common.py:468\u001b[39m, in \u001b[36mFileDownloader.download\u001b[39m\u001b[34m(self, filename, info_dict, subtitle)\u001b[39m\n\u001b[32m    465\u001b[39m     \u001b[38;5;28mself\u001b[39m.to_screen(\u001b[33mf\u001b[39m\u001b[33m'\u001b[39m\u001b[33m[download] Sleeping \u001b[39m\u001b[38;5;132;01m{\u001b[39;00msleep_interval\u001b[38;5;132;01m:\u001b[39;00m\u001b[33m.2f\u001b[39m\u001b[38;5;132;01m}\u001b[39;00m\u001b[33m seconds ...\u001b[39m\u001b[33m'\u001b[39m)\n\u001b[32m    466\u001b[39m     time.sleep(sleep_interval)\n\u001b[32m--> \u001b[39m\u001b[32m468\u001b[39m ret = \u001b[38;5;28;43mself\u001b[39;49m\u001b[43m.\u001b[49m\u001b[43mreal_download\u001b[49m\u001b[43m(\u001b[49m\u001b[43mfilename\u001b[49m\u001b[43m,\u001b[49m\u001b[43m \u001b[49m\u001b[43minfo_dict\u001b[49m\u001b[43m)\u001b[49m\n\u001b[32m    469\u001b[39m \u001b[38;5;28mself\u001b[39m._finish_multiline_status()\n\u001b[32m    470\u001b[39m \u001b[38;5;28;01mreturn\u001b[39;00m ret, \u001b[38;5;28;01mTrue\u001b[39;00m\n",
      "\u001b[36mFile \u001b[39m\u001b[32mc:\\Users\\user\\Documents\\GitHub\\zonos\\Lib\\site-packages\\yt_dlp\\downloader\\hls.py:402\u001b[39m, in \u001b[36mHlsFD.real_download\u001b[39m\u001b[34m(self, filename, info_dict)\u001b[39m\n\u001b[32m    399\u001b[39m         \u001b[38;5;28mself\u001b[39m.download_and_append_fragments(\n\u001b[32m    400\u001b[39m             ctx, fragments, info_dict, pack_func=pack_fragment, finish_func=fin_fragments)\n\u001b[32m    401\u001b[39m \u001b[38;5;28;01melse\u001b[39;00m:\n\u001b[32m--> \u001b[39m\u001b[32m402\u001b[39m     \u001b[38;5;28;01mreturn\u001b[39;00m \u001b[38;5;28;43mself\u001b[39;49m\u001b[43m.\u001b[49m\u001b[43mdownload_and_append_fragments\u001b[49m\u001b[43m(\u001b[49m\u001b[43mctx\u001b[49m\u001b[43m,\u001b[49m\u001b[43m \u001b[49m\u001b[43mfragments\u001b[49m\u001b[43m,\u001b[49m\u001b[43m \u001b[49m\u001b[43minfo_dict\u001b[49m\u001b[43m)\u001b[49m\n",
      "\u001b[36mFile \u001b[39m\u001b[32mc:\\Users\\user\\Documents\\GitHub\\zonos\\Lib\\site-packages\\yt_dlp\\downloader\\fragment.py:513\u001b[39m, in \u001b[36mFragmentFD.download_and_append_fragments\u001b[39m\u001b[34m(self, ctx, fragments, info_dict, is_fatal, pack_func, finish_func, tpe, interrupt_trigger)\u001b[39m\n\u001b[32m    511\u001b[39m     \u001b[38;5;28;01mbreak\u001b[39;00m\n\u001b[32m    512\u001b[39m \u001b[38;5;28;01mtry\u001b[39;00m:\n\u001b[32m--> \u001b[39m\u001b[32m513\u001b[39m     \u001b[43mdownload_fragment\u001b[49m\u001b[43m(\u001b[49m\u001b[43mfragment\u001b[49m\u001b[43m,\u001b[49m\u001b[43m \u001b[49m\u001b[43mctx\u001b[49m\u001b[43m)\u001b[49m\n\u001b[32m    514\u001b[39m     result = append_fragment(\n\u001b[32m    515\u001b[39m         decrypt_fragment(fragment, \u001b[38;5;28mself\u001b[39m._read_fragment(ctx)), fragment[\u001b[33m'\u001b[39m\u001b[33mfrag_index\u001b[39m\u001b[33m'\u001b[39m], ctx)\n\u001b[32m    516\u001b[39m \u001b[38;5;28;01mexcept\u001b[39;00m \u001b[38;5;167;01mKeyboardInterrupt\u001b[39;00m:\n",
      "\u001b[36mFile \u001b[39m\u001b[32mc:\\Users\\user\\Documents\\GitHub\\zonos\\Lib\\site-packages\\yt_dlp\\downloader\\fragment.py:462\u001b[39m, in \u001b[36mFragmentFD.download_and_append_fragments.<locals>.download_fragment\u001b[39m\u001b[34m(fragment, ctx)\u001b[39m\n\u001b[32m    460\u001b[39m \u001b[38;5;28;01mtry\u001b[39;00m:\n\u001b[32m    461\u001b[39m     ctx[\u001b[33m'\u001b[39m\u001b[33mfragment_count\u001b[39m\u001b[33m'\u001b[39m] = fragment.get(\u001b[33m'\u001b[39m\u001b[33mfragment_count\u001b[39m\u001b[33m'\u001b[39m)\n\u001b[32m--> \u001b[39m\u001b[32m462\u001b[39m     \u001b[38;5;28;01mif\u001b[39;00m \u001b[38;5;129;01mnot\u001b[39;00m \u001b[38;5;28;43mself\u001b[39;49m\u001b[43m.\u001b[49m\u001b[43m_download_fragment\u001b[49m\u001b[43m(\u001b[49m\n\u001b[32m    463\u001b[39m \u001b[43m            \u001b[49m\u001b[43mctx\u001b[49m\u001b[43m,\u001b[49m\u001b[43m \u001b[49m\u001b[43mfragment\u001b[49m\u001b[43m[\u001b[49m\u001b[33;43m'\u001b[39;49m\u001b[33;43murl\u001b[39;49m\u001b[33;43m'\u001b[39;49m\u001b[43m]\u001b[49m\u001b[43m,\u001b[49m\u001b[43m \u001b[49m\u001b[43minfo_dict\u001b[49m\u001b[43m,\u001b[49m\u001b[43m \u001b[49m\u001b[43mheaders\u001b[49m\u001b[43m,\u001b[49m\u001b[43m \u001b[49m\u001b[43minfo_dict\u001b[49m\u001b[43m.\u001b[49m\u001b[43mget\u001b[49m\u001b[43m(\u001b[49m\u001b[33;43m'\u001b[39;49m\u001b[33;43mrequest_data\u001b[39;49m\u001b[33;43m'\u001b[39;49m\u001b[43m)\u001b[49m\u001b[43m)\u001b[49m:\n\u001b[32m    464\u001b[39m         \u001b[38;5;28;01mreturn\u001b[39;00m\n\u001b[32m    465\u001b[39m \u001b[38;5;28;01mexcept\u001b[39;00m (HTTPError, IncompleteRead) \u001b[38;5;28;01mas\u001b[39;00m err:\n",
      "\u001b[36mFile \u001b[39m\u001b[32mc:\\Users\\user\\Documents\\GitHub\\zonos\\Lib\\site-packages\\yt_dlp\\downloader\\fragment.py:124\u001b[39m, in \u001b[36mFragmentFD._download_fragment\u001b[39m\u001b[34m(self, ctx, frag_url, info_dict, headers, request_data)\u001b[39m\n\u001b[32m    121\u001b[39m     frag_resume_len = \u001b[38;5;28mself\u001b[39m.filesize_or_none(\u001b[38;5;28mself\u001b[39m.temp_name(fragment_filename))\n\u001b[32m    122\u001b[39m fragment_info_dict[\u001b[33m'\u001b[39m\u001b[33mfrag_resume_len\u001b[39m\u001b[33m'\u001b[39m] = ctx[\u001b[33m'\u001b[39m\u001b[33mfrag_resume_len\u001b[39m\u001b[33m'\u001b[39m] = frag_resume_len\n\u001b[32m--> \u001b[39m\u001b[32m124\u001b[39m success, _ = \u001b[43mctx\u001b[49m\u001b[43m[\u001b[49m\u001b[33;43m'\u001b[39;49m\u001b[33;43mdl\u001b[39;49m\u001b[33;43m'\u001b[39;49m\u001b[43m]\u001b[49m\u001b[43m.\u001b[49m\u001b[43mdownload\u001b[49m\u001b[43m(\u001b[49m\u001b[43mfragment_filename\u001b[49m\u001b[43m,\u001b[49m\u001b[43m \u001b[49m\u001b[43mfragment_info_dict\u001b[49m\u001b[43m)\u001b[49m\n\u001b[32m    125\u001b[39m \u001b[38;5;28;01mif\u001b[39;00m \u001b[38;5;129;01mnot\u001b[39;00m success:\n\u001b[32m    126\u001b[39m     \u001b[38;5;28;01mreturn\u001b[39;00m \u001b[38;5;28;01mFalse\u001b[39;00m\n",
      "\u001b[36mFile \u001b[39m\u001b[32mc:\\Users\\user\\Documents\\GitHub\\zonos\\Lib\\site-packages\\yt_dlp\\downloader\\common.py:468\u001b[39m, in \u001b[36mFileDownloader.download\u001b[39m\u001b[34m(self, filename, info_dict, subtitle)\u001b[39m\n\u001b[32m    465\u001b[39m     \u001b[38;5;28mself\u001b[39m.to_screen(\u001b[33mf\u001b[39m\u001b[33m'\u001b[39m\u001b[33m[download] Sleeping \u001b[39m\u001b[38;5;132;01m{\u001b[39;00msleep_interval\u001b[38;5;132;01m:\u001b[39;00m\u001b[33m.2f\u001b[39m\u001b[38;5;132;01m}\u001b[39;00m\u001b[33m seconds ...\u001b[39m\u001b[33m'\u001b[39m)\n\u001b[32m    466\u001b[39m     time.sleep(sleep_interval)\n\u001b[32m--> \u001b[39m\u001b[32m468\u001b[39m ret = \u001b[38;5;28;43mself\u001b[39;49m\u001b[43m.\u001b[49m\u001b[43mreal_download\u001b[49m\u001b[43m(\u001b[49m\u001b[43mfilename\u001b[49m\u001b[43m,\u001b[49m\u001b[43m \u001b[49m\u001b[43minfo_dict\u001b[49m\u001b[43m)\u001b[49m\n\u001b[32m    469\u001b[39m \u001b[38;5;28mself\u001b[39m._finish_multiline_status()\n\u001b[32m    470\u001b[39m \u001b[38;5;28;01mreturn\u001b[39;00m ret, \u001b[38;5;28;01mTrue\u001b[39;00m\n",
      "\u001b[36mFile \u001b[39m\u001b[32mc:\\Users\\user\\Documents\\GitHub\\zonos\\Lib\\site-packages\\yt_dlp\\downloader\\http.py:367\u001b[39m, in \u001b[36mHttpFD.real_download\u001b[39m\u001b[34m(self, filename, info_dict)\u001b[39m\n\u001b[32m    365\u001b[39m \u001b[38;5;28;01mfor\u001b[39;00m retry \u001b[38;5;129;01min\u001b[39;00m RetryManager(\u001b[38;5;28mself\u001b[39m.params.get(\u001b[33m'\u001b[39m\u001b[33mretries\u001b[39m\u001b[33m'\u001b[39m), \u001b[38;5;28mself\u001b[39m.report_retry):\n\u001b[32m    366\u001b[39m     \u001b[38;5;28;01mtry\u001b[39;00m:\n\u001b[32m--> \u001b[39m\u001b[32m367\u001b[39m         \u001b[43mestablish_connection\u001b[49m\u001b[43m(\u001b[49m\u001b[43m)\u001b[49m\n\u001b[32m    368\u001b[39m         \u001b[38;5;28;01mreturn\u001b[39;00m download()\n\u001b[32m    369\u001b[39m     \u001b[38;5;28;01mexcept\u001b[39;00m RetryDownload \u001b[38;5;28;01mas\u001b[39;00m err:\n",
      "\u001b[36mFile \u001b[39m\u001b[32mc:\\Users\\user\\Documents\\GitHub\\zonos\\Lib\\site-packages\\yt_dlp\\downloader\\http.py:118\u001b[39m, in \u001b[36mHttpFD.real_download.<locals>.establish_connection\u001b[39m\u001b[34m()\u001b[39m\n\u001b[32m    116\u001b[39m \u001b[38;5;66;03m# Establish connection\u001b[39;00m\n\u001b[32m    117\u001b[39m \u001b[38;5;28;01mtry\u001b[39;00m:\n\u001b[32m--> \u001b[39m\u001b[32m118\u001b[39m     ctx.data = \u001b[38;5;28;43mself\u001b[39;49m\u001b[43m.\u001b[49m\u001b[43mydl\u001b[49m\u001b[43m.\u001b[49m\u001b[43murlopen\u001b[49m\u001b[43m(\u001b[49m\u001b[43mrequest\u001b[49m\u001b[43m)\u001b[49m\n\u001b[32m    119\u001b[39m     \u001b[38;5;66;03m# When trying to resume, Content-Range HTTP header of response has to be checked\u001b[39;00m\n\u001b[32m    120\u001b[39m     \u001b[38;5;66;03m# to match the value of requested Range HTTP header. This is due to a webservers\u001b[39;00m\n\u001b[32m    121\u001b[39m     \u001b[38;5;66;03m# that don't support resuming and serve a whole file with no Content-Range\u001b[39;00m\n\u001b[32m    122\u001b[39m     \u001b[38;5;66;03m# set in response despite of requested Range (see\u001b[39;00m\n\u001b[32m    123\u001b[39m     \u001b[38;5;66;03m# https://github.com/ytdl-org/youtube-dl/issues/6057#issuecomment-126129799)\u001b[39;00m\n\u001b[32m    124\u001b[39m     \u001b[38;5;28;01mif\u001b[39;00m has_range:\n",
      "\u001b[36mFile \u001b[39m\u001b[32mc:\\Users\\user\\Documents\\GitHub\\zonos\\Lib\\site-packages\\yt_dlp\\YoutubeDL.py:4195\u001b[39m, in \u001b[36mYoutubeDL.urlopen\u001b[39m\u001b[34m(self, req)\u001b[39m\n\u001b[32m   4192\u001b[39m clean_headers(req.headers)\n\u001b[32m   4194\u001b[39m \u001b[38;5;28;01mtry\u001b[39;00m:\n\u001b[32m-> \u001b[39m\u001b[32m4195\u001b[39m     \u001b[38;5;28;01mreturn\u001b[39;00m \u001b[38;5;28;43mself\u001b[39;49m\u001b[43m.\u001b[49m\u001b[43m_request_director\u001b[49m\u001b[43m.\u001b[49m\u001b[43msend\u001b[49m\u001b[43m(\u001b[49m\u001b[43mreq\u001b[49m\u001b[43m)\u001b[49m\n\u001b[32m   4196\u001b[39m \u001b[38;5;28;01mexcept\u001b[39;00m NoSupportingHandlers \u001b[38;5;28;01mas\u001b[39;00m e:\n\u001b[32m   4197\u001b[39m     \u001b[38;5;28;01mfor\u001b[39;00m ue \u001b[38;5;129;01min\u001b[39;00m e.unsupported_errors:\n\u001b[32m   4198\u001b[39m         \u001b[38;5;66;03m# FIXME: This depends on the order of errors.\u001b[39;00m\n",
      "\u001b[36mFile \u001b[39m\u001b[32mc:\\Users\\user\\Documents\\GitHub\\zonos\\Lib\\site-packages\\yt_dlp\\networking\\common.py:117\u001b[39m, in \u001b[36mRequestDirector.send\u001b[39m\u001b[34m(self, request)\u001b[39m\n\u001b[32m    115\u001b[39m \u001b[38;5;28mself\u001b[39m._print_verbose(\u001b[33mf\u001b[39m\u001b[33m'\u001b[39m\u001b[33mSending request via \u001b[39m\u001b[33m\"\u001b[39m\u001b[38;5;132;01m{\u001b[39;00mhandler.RH_NAME\u001b[38;5;132;01m}\u001b[39;00m\u001b[33m\"\u001b[39m\u001b[33m'\u001b[39m)\n\u001b[32m    116\u001b[39m \u001b[38;5;28;01mtry\u001b[39;00m:\n\u001b[32m--> \u001b[39m\u001b[32m117\u001b[39m     response = \u001b[43mhandler\u001b[49m\u001b[43m.\u001b[49m\u001b[43msend\u001b[49m\u001b[43m(\u001b[49m\u001b[43mrequest\u001b[49m\u001b[43m)\u001b[49m\n\u001b[32m    118\u001b[39m \u001b[38;5;28;01mexcept\u001b[39;00m RequestError:\n\u001b[32m    119\u001b[39m     \u001b[38;5;28;01mraise\u001b[39;00m\n",
      "\u001b[36mFile \u001b[39m\u001b[32mc:\\Users\\user\\Documents\\GitHub\\zonos\\Lib\\site-packages\\yt_dlp\\networking\\_helper.py:194\u001b[39m, in \u001b[36mwrap_request_errors.<locals>.wrapper\u001b[39m\u001b[34m(self, *args, **kwargs)\u001b[39m\n\u001b[32m    191\u001b[39m \u001b[38;5;129m@functools\u001b[39m.wraps(func)\n\u001b[32m    192\u001b[39m \u001b[38;5;28;01mdef\u001b[39;00m\u001b[38;5;250m \u001b[39m\u001b[34mwrapper\u001b[39m(\u001b[38;5;28mself\u001b[39m, *args, **kwargs):\n\u001b[32m    193\u001b[39m     \u001b[38;5;28;01mtry\u001b[39;00m:\n\u001b[32m--> \u001b[39m\u001b[32m194\u001b[39m         \u001b[38;5;28;01mreturn\u001b[39;00m \u001b[43mfunc\u001b[49m\u001b[43m(\u001b[49m\u001b[38;5;28;43mself\u001b[39;49m\u001b[43m,\u001b[49m\u001b[43m \u001b[49m\u001b[43m*\u001b[49m\u001b[43margs\u001b[49m\u001b[43m,\u001b[49m\u001b[43m \u001b[49m\u001b[43m*\u001b[49m\u001b[43m*\u001b[49m\u001b[43mkwargs\u001b[49m\u001b[43m)\u001b[49m\n\u001b[32m    195\u001b[39m     \u001b[38;5;28;01mexcept\u001b[39;00m RequestError \u001b[38;5;28;01mas\u001b[39;00m e:\n\u001b[32m    196\u001b[39m         \u001b[38;5;28;01mif\u001b[39;00m e.handler \u001b[38;5;129;01mis\u001b[39;00m \u001b[38;5;28;01mNone\u001b[39;00m:\n",
      "\u001b[36mFile \u001b[39m\u001b[32mc:\\Users\\user\\Documents\\GitHub\\zonos\\Lib\\site-packages\\yt_dlp\\networking\\common.py:359\u001b[39m, in \u001b[36mRequestHandler.send\u001b[39m\u001b[34m(self, request)\u001b[39m\n\u001b[32m    357\u001b[39m \u001b[38;5;28;01mif\u001b[39;00m \u001b[38;5;129;01mnot\u001b[39;00m \u001b[38;5;28misinstance\u001b[39m(request, Request):\n\u001b[32m    358\u001b[39m     \u001b[38;5;28;01mraise\u001b[39;00m \u001b[38;5;167;01mTypeError\u001b[39;00m(\u001b[33m'\u001b[39m\u001b[33mExpected an instance of Request\u001b[39m\u001b[33m'\u001b[39m)\n\u001b[32m--> \u001b[39m\u001b[32m359\u001b[39m \u001b[38;5;28;01mreturn\u001b[39;00m \u001b[38;5;28;43mself\u001b[39;49m\u001b[43m.\u001b[49m\u001b[43m_send\u001b[49m\u001b[43m(\u001b[49m\u001b[43mrequest\u001b[49m\u001b[43m)\u001b[49m\n",
      "\u001b[36mFile \u001b[39m\u001b[32mc:\\Users\\user\\Documents\\GitHub\\zonos\\Lib\\site-packages\\yt_dlp\\networking\\_requests.py:331\u001b[39m, in \u001b[36mRequestsRH._send\u001b[39m\u001b[34m(self, request)\u001b[39m\n\u001b[32m    325\u001b[39m session = \u001b[38;5;28mself\u001b[39m._get_instance(\n\u001b[32m    326\u001b[39m     cookiejar=\u001b[38;5;28mself\u001b[39m._get_cookiejar(request),\n\u001b[32m    327\u001b[39m     legacy_ssl_support=request.extensions.get(\u001b[33m'\u001b[39m\u001b[33mlegacy_ssl\u001b[39m\u001b[33m'\u001b[39m),\n\u001b[32m    328\u001b[39m )\n\u001b[32m    330\u001b[39m \u001b[38;5;28;01mtry\u001b[39;00m:\n\u001b[32m--> \u001b[39m\u001b[32m331\u001b[39m     requests_res = \u001b[43msession\u001b[49m\u001b[43m.\u001b[49m\u001b[43mrequest\u001b[49m\u001b[43m(\u001b[49m\n\u001b[32m    332\u001b[39m \u001b[43m        \u001b[49m\u001b[43mmethod\u001b[49m\u001b[43m=\u001b[49m\u001b[43mrequest\u001b[49m\u001b[43m.\u001b[49m\u001b[43mmethod\u001b[49m\u001b[43m,\u001b[49m\n\u001b[32m    333\u001b[39m \u001b[43m        \u001b[49m\u001b[43murl\u001b[49m\u001b[43m=\u001b[49m\u001b[43mrequest\u001b[49m\u001b[43m.\u001b[49m\u001b[43murl\u001b[49m\u001b[43m,\u001b[49m\n\u001b[32m    334\u001b[39m \u001b[43m        \u001b[49m\u001b[43mdata\u001b[49m\u001b[43m=\u001b[49m\u001b[43mrequest\u001b[49m\u001b[43m.\u001b[49m\u001b[43mdata\u001b[49m\u001b[43m,\u001b[49m\n\u001b[32m    335\u001b[39m \u001b[43m        \u001b[49m\u001b[43mheaders\u001b[49m\u001b[43m=\u001b[49m\u001b[43mheaders\u001b[49m\u001b[43m,\u001b[49m\n\u001b[32m    336\u001b[39m \u001b[43m        \u001b[49m\u001b[43mtimeout\u001b[49m\u001b[43m=\u001b[49m\u001b[38;5;28;43mself\u001b[39;49m\u001b[43m.\u001b[49m\u001b[43m_calculate_timeout\u001b[49m\u001b[43m(\u001b[49m\u001b[43mrequest\u001b[49m\u001b[43m)\u001b[49m\u001b[43m,\u001b[49m\n\u001b[32m    337\u001b[39m \u001b[43m        \u001b[49m\u001b[43mproxies\u001b[49m\u001b[43m=\u001b[49m\u001b[38;5;28;43mself\u001b[39;49m\u001b[43m.\u001b[49m\u001b[43m_get_proxies\u001b[49m\u001b[43m(\u001b[49m\u001b[43mrequest\u001b[49m\u001b[43m)\u001b[49m\u001b[43m,\u001b[49m\n\u001b[32m    338\u001b[39m \u001b[43m        \u001b[49m\u001b[43mallow_redirects\u001b[49m\u001b[43m=\u001b[49m\u001b[38;5;28;43;01mTrue\u001b[39;49;00m\u001b[43m,\u001b[49m\n\u001b[32m    339\u001b[39m \u001b[43m        \u001b[49m\u001b[43mstream\u001b[49m\u001b[43m=\u001b[49m\u001b[38;5;28;43;01mTrue\u001b[39;49;00m\u001b[43m,\u001b[49m\n\u001b[32m    340\u001b[39m \u001b[43m    \u001b[49m\u001b[43m)\u001b[49m\n\u001b[32m    342\u001b[39m \u001b[38;5;28;01mexcept\u001b[39;00m requests.exceptions.TooManyRedirects \u001b[38;5;28;01mas\u001b[39;00m e:\n\u001b[32m    343\u001b[39m     max_redirects_exceeded = \u001b[38;5;28;01mTrue\u001b[39;00m\n",
      "\u001b[36mFile \u001b[39m\u001b[32mc:\\Users\\user\\Documents\\GitHub\\zonos\\Lib\\site-packages\\requests\\sessions.py:589\u001b[39m, in \u001b[36mSession.request\u001b[39m\u001b[34m(self, method, url, params, data, headers, cookies, files, auth, timeout, allow_redirects, proxies, hooks, stream, verify, cert, json)\u001b[39m\n\u001b[32m    584\u001b[39m send_kwargs = {\n\u001b[32m    585\u001b[39m     \u001b[33m\"\u001b[39m\u001b[33mtimeout\u001b[39m\u001b[33m\"\u001b[39m: timeout,\n\u001b[32m    586\u001b[39m     \u001b[33m\"\u001b[39m\u001b[33mallow_redirects\u001b[39m\u001b[33m\"\u001b[39m: allow_redirects,\n\u001b[32m    587\u001b[39m }\n\u001b[32m    588\u001b[39m send_kwargs.update(settings)\n\u001b[32m--> \u001b[39m\u001b[32m589\u001b[39m resp = \u001b[38;5;28;43mself\u001b[39;49m\u001b[43m.\u001b[49m\u001b[43msend\u001b[49m\u001b[43m(\u001b[49m\u001b[43mprep\u001b[49m\u001b[43m,\u001b[49m\u001b[43m \u001b[49m\u001b[43m*\u001b[49m\u001b[43m*\u001b[49m\u001b[43msend_kwargs\u001b[49m\u001b[43m)\u001b[49m\n\u001b[32m    591\u001b[39m \u001b[38;5;28;01mreturn\u001b[39;00m resp\n",
      "\u001b[36mFile \u001b[39m\u001b[32mc:\\Users\\user\\Documents\\GitHub\\zonos\\Lib\\site-packages\\requests\\sessions.py:703\u001b[39m, in \u001b[36mSession.send\u001b[39m\u001b[34m(self, request, **kwargs)\u001b[39m\n\u001b[32m    700\u001b[39m start = preferred_clock()\n\u001b[32m    702\u001b[39m \u001b[38;5;66;03m# Send the request\u001b[39;00m\n\u001b[32m--> \u001b[39m\u001b[32m703\u001b[39m r = \u001b[43madapter\u001b[49m\u001b[43m.\u001b[49m\u001b[43msend\u001b[49m\u001b[43m(\u001b[49m\u001b[43mrequest\u001b[49m\u001b[43m,\u001b[49m\u001b[43m \u001b[49m\u001b[43m*\u001b[49m\u001b[43m*\u001b[49m\u001b[43mkwargs\u001b[49m\u001b[43m)\u001b[49m\n\u001b[32m    705\u001b[39m \u001b[38;5;66;03m# Total elapsed time of the request (approximately)\u001b[39;00m\n\u001b[32m    706\u001b[39m elapsed = preferred_clock() - start\n",
      "\u001b[36mFile \u001b[39m\u001b[32mc:\\Users\\user\\Documents\\GitHub\\zonos\\Lib\\site-packages\\requests\\adapters.py:667\u001b[39m, in \u001b[36mHTTPAdapter.send\u001b[39m\u001b[34m(self, request, stream, timeout, verify, cert, proxies)\u001b[39m\n\u001b[32m    664\u001b[39m     timeout = TimeoutSauce(connect=timeout, read=timeout)\n\u001b[32m    666\u001b[39m \u001b[38;5;28;01mtry\u001b[39;00m:\n\u001b[32m--> \u001b[39m\u001b[32m667\u001b[39m     resp = \u001b[43mconn\u001b[49m\u001b[43m.\u001b[49m\u001b[43murlopen\u001b[49m\u001b[43m(\u001b[49m\n\u001b[32m    668\u001b[39m \u001b[43m        \u001b[49m\u001b[43mmethod\u001b[49m\u001b[43m=\u001b[49m\u001b[43mrequest\u001b[49m\u001b[43m.\u001b[49m\u001b[43mmethod\u001b[49m\u001b[43m,\u001b[49m\n\u001b[32m    669\u001b[39m \u001b[43m        \u001b[49m\u001b[43murl\u001b[49m\u001b[43m=\u001b[49m\u001b[43murl\u001b[49m\u001b[43m,\u001b[49m\n\u001b[32m    670\u001b[39m \u001b[43m        \u001b[49m\u001b[43mbody\u001b[49m\u001b[43m=\u001b[49m\u001b[43mrequest\u001b[49m\u001b[43m.\u001b[49m\u001b[43mbody\u001b[49m\u001b[43m,\u001b[49m\n\u001b[32m    671\u001b[39m \u001b[43m        \u001b[49m\u001b[43mheaders\u001b[49m\u001b[43m=\u001b[49m\u001b[43mrequest\u001b[49m\u001b[43m.\u001b[49m\u001b[43mheaders\u001b[49m\u001b[43m,\u001b[49m\n\u001b[32m    672\u001b[39m \u001b[43m        \u001b[49m\u001b[43mredirect\u001b[49m\u001b[43m=\u001b[49m\u001b[38;5;28;43;01mFalse\u001b[39;49;00m\u001b[43m,\u001b[49m\n\u001b[32m    673\u001b[39m \u001b[43m        \u001b[49m\u001b[43massert_same_host\u001b[49m\u001b[43m=\u001b[49m\u001b[38;5;28;43;01mFalse\u001b[39;49;00m\u001b[43m,\u001b[49m\n\u001b[32m    674\u001b[39m \u001b[43m        \u001b[49m\u001b[43mpreload_content\u001b[49m\u001b[43m=\u001b[49m\u001b[38;5;28;43;01mFalse\u001b[39;49;00m\u001b[43m,\u001b[49m\n\u001b[32m    675\u001b[39m \u001b[43m        \u001b[49m\u001b[43mdecode_content\u001b[49m\u001b[43m=\u001b[49m\u001b[38;5;28;43;01mFalse\u001b[39;49;00m\u001b[43m,\u001b[49m\n\u001b[32m    676\u001b[39m \u001b[43m        \u001b[49m\u001b[43mretries\u001b[49m\u001b[43m=\u001b[49m\u001b[38;5;28;43mself\u001b[39;49m\u001b[43m.\u001b[49m\u001b[43mmax_retries\u001b[49m\u001b[43m,\u001b[49m\n\u001b[32m    677\u001b[39m \u001b[43m        \u001b[49m\u001b[43mtimeout\u001b[49m\u001b[43m=\u001b[49m\u001b[43mtimeout\u001b[49m\u001b[43m,\u001b[49m\n\u001b[32m    678\u001b[39m \u001b[43m        \u001b[49m\u001b[43mchunked\u001b[49m\u001b[43m=\u001b[49m\u001b[43mchunked\u001b[49m\u001b[43m,\u001b[49m\n\u001b[32m    679\u001b[39m \u001b[43m    \u001b[49m\u001b[43m)\u001b[49m\n\u001b[32m    681\u001b[39m \u001b[38;5;28;01mexcept\u001b[39;00m (ProtocolError, \u001b[38;5;167;01mOSError\u001b[39;00m) \u001b[38;5;28;01mas\u001b[39;00m err:\n\u001b[32m    682\u001b[39m     \u001b[38;5;28;01mraise\u001b[39;00m \u001b[38;5;167;01mConnectionError\u001b[39;00m(err, request=request)\n",
      "\u001b[36mFile \u001b[39m\u001b[32mc:\\Users\\user\\Documents\\GitHub\\zonos\\Lib\\site-packages\\urllib3\\connectionpool.py:787\u001b[39m, in \u001b[36mHTTPConnectionPool.urlopen\u001b[39m\u001b[34m(self, method, url, body, headers, retries, redirect, assert_same_host, timeout, pool_timeout, release_conn, chunked, body_pos, preload_content, decode_content, **response_kw)\u001b[39m\n\u001b[32m    784\u001b[39m response_conn = conn \u001b[38;5;28;01mif\u001b[39;00m \u001b[38;5;129;01mnot\u001b[39;00m release_conn \u001b[38;5;28;01melse\u001b[39;00m \u001b[38;5;28;01mNone\u001b[39;00m\n\u001b[32m    786\u001b[39m \u001b[38;5;66;03m# Make the request on the HTTPConnection object\u001b[39;00m\n\u001b[32m--> \u001b[39m\u001b[32m787\u001b[39m response = \u001b[38;5;28;43mself\u001b[39;49m\u001b[43m.\u001b[49m\u001b[43m_make_request\u001b[49m\u001b[43m(\u001b[49m\n\u001b[32m    788\u001b[39m \u001b[43m    \u001b[49m\u001b[43mconn\u001b[49m\u001b[43m,\u001b[49m\n\u001b[32m    789\u001b[39m \u001b[43m    \u001b[49m\u001b[43mmethod\u001b[49m\u001b[43m,\u001b[49m\n\u001b[32m    790\u001b[39m \u001b[43m    \u001b[49m\u001b[43murl\u001b[49m\u001b[43m,\u001b[49m\n\u001b[32m    791\u001b[39m \u001b[43m    \u001b[49m\u001b[43mtimeout\u001b[49m\u001b[43m=\u001b[49m\u001b[43mtimeout_obj\u001b[49m\u001b[43m,\u001b[49m\n\u001b[32m    792\u001b[39m \u001b[43m    \u001b[49m\u001b[43mbody\u001b[49m\u001b[43m=\u001b[49m\u001b[43mbody\u001b[49m\u001b[43m,\u001b[49m\n\u001b[32m    793\u001b[39m \u001b[43m    \u001b[49m\u001b[43mheaders\u001b[49m\u001b[43m=\u001b[49m\u001b[43mheaders\u001b[49m\u001b[43m,\u001b[49m\n\u001b[32m    794\u001b[39m \u001b[43m    \u001b[49m\u001b[43mchunked\u001b[49m\u001b[43m=\u001b[49m\u001b[43mchunked\u001b[49m\u001b[43m,\u001b[49m\n\u001b[32m    795\u001b[39m \u001b[43m    \u001b[49m\u001b[43mretries\u001b[49m\u001b[43m=\u001b[49m\u001b[43mretries\u001b[49m\u001b[43m,\u001b[49m\n\u001b[32m    796\u001b[39m \u001b[43m    \u001b[49m\u001b[43mresponse_conn\u001b[49m\u001b[43m=\u001b[49m\u001b[43mresponse_conn\u001b[49m\u001b[43m,\u001b[49m\n\u001b[32m    797\u001b[39m \u001b[43m    \u001b[49m\u001b[43mpreload_content\u001b[49m\u001b[43m=\u001b[49m\u001b[43mpreload_content\u001b[49m\u001b[43m,\u001b[49m\n\u001b[32m    798\u001b[39m \u001b[43m    \u001b[49m\u001b[43mdecode_content\u001b[49m\u001b[43m=\u001b[49m\u001b[43mdecode_content\u001b[49m\u001b[43m,\u001b[49m\n\u001b[32m    799\u001b[39m \u001b[43m    \u001b[49m\u001b[43m*\u001b[49m\u001b[43m*\u001b[49m\u001b[43mresponse_kw\u001b[49m\u001b[43m,\u001b[49m\n\u001b[32m    800\u001b[39m \u001b[43m\u001b[49m\u001b[43m)\u001b[49m\n\u001b[32m    802\u001b[39m \u001b[38;5;66;03m# Everything went great!\u001b[39;00m\n\u001b[32m    803\u001b[39m clean_exit = \u001b[38;5;28;01mTrue\u001b[39;00m\n",
      "\u001b[36mFile \u001b[39m\u001b[32mc:\\Users\\user\\Documents\\GitHub\\zonos\\Lib\\site-packages\\urllib3\\connectionpool.py:534\u001b[39m, in \u001b[36mHTTPConnectionPool._make_request\u001b[39m\u001b[34m(self, conn, method, url, body, headers, retries, timeout, chunked, response_conn, preload_content, decode_content, enforce_content_length)\u001b[39m\n\u001b[32m    532\u001b[39m \u001b[38;5;66;03m# Receive the response from the server\u001b[39;00m\n\u001b[32m    533\u001b[39m \u001b[38;5;28;01mtry\u001b[39;00m:\n\u001b[32m--> \u001b[39m\u001b[32m534\u001b[39m     response = \u001b[43mconn\u001b[49m\u001b[43m.\u001b[49m\u001b[43mgetresponse\u001b[49m\u001b[43m(\u001b[49m\u001b[43m)\u001b[49m\n\u001b[32m    535\u001b[39m \u001b[38;5;28;01mexcept\u001b[39;00m (BaseSSLError, \u001b[38;5;167;01mOSError\u001b[39;00m) \u001b[38;5;28;01mas\u001b[39;00m e:\n\u001b[32m    536\u001b[39m     \u001b[38;5;28mself\u001b[39m._raise_timeout(err=e, url=url, timeout_value=read_timeout)\n",
      "\u001b[36mFile \u001b[39m\u001b[32mc:\\Users\\user\\Documents\\GitHub\\zonos\\Lib\\site-packages\\urllib3\\connection.py:516\u001b[39m, in \u001b[36mHTTPConnection.getresponse\u001b[39m\u001b[34m(self)\u001b[39m\n\u001b[32m    513\u001b[39m _shutdown = \u001b[38;5;28mgetattr\u001b[39m(\u001b[38;5;28mself\u001b[39m.sock, \u001b[33m\"\u001b[39m\u001b[33mshutdown\u001b[39m\u001b[33m\"\u001b[39m, \u001b[38;5;28;01mNone\u001b[39;00m)\n\u001b[32m    515\u001b[39m \u001b[38;5;66;03m# Get the response from http.client.HTTPConnection\u001b[39;00m\n\u001b[32m--> \u001b[39m\u001b[32m516\u001b[39m httplib_response = \u001b[38;5;28;43msuper\u001b[39;49m\u001b[43m(\u001b[49m\u001b[43m)\u001b[49m\u001b[43m.\u001b[49m\u001b[43mgetresponse\u001b[49m\u001b[43m(\u001b[49m\u001b[43m)\u001b[49m\n\u001b[32m    518\u001b[39m \u001b[38;5;28;01mtry\u001b[39;00m:\n\u001b[32m    519\u001b[39m     assert_header_parsing(httplib_response.msg)\n",
      "\u001b[36mFile \u001b[39m\u001b[32m~\\AppData\\Local\\Programs\\Python\\Python311\\Lib\\http\\client.py:1395\u001b[39m, in \u001b[36mHTTPConnection.getresponse\u001b[39m\u001b[34m(self)\u001b[39m\n\u001b[32m   1393\u001b[39m \u001b[38;5;28;01mtry\u001b[39;00m:\n\u001b[32m   1394\u001b[39m     \u001b[38;5;28;01mtry\u001b[39;00m:\n\u001b[32m-> \u001b[39m\u001b[32m1395\u001b[39m         \u001b[43mresponse\u001b[49m\u001b[43m.\u001b[49m\u001b[43mbegin\u001b[49m\u001b[43m(\u001b[49m\u001b[43m)\u001b[49m\n\u001b[32m   1396\u001b[39m     \u001b[38;5;28;01mexcept\u001b[39;00m \u001b[38;5;167;01mConnectionError\u001b[39;00m:\n\u001b[32m   1397\u001b[39m         \u001b[38;5;28mself\u001b[39m.close()\n",
      "\u001b[36mFile \u001b[39m\u001b[32m~\\AppData\\Local\\Programs\\Python\\Python311\\Lib\\http\\client.py:325\u001b[39m, in \u001b[36mHTTPResponse.begin\u001b[39m\u001b[34m(self)\u001b[39m\n\u001b[32m    323\u001b[39m \u001b[38;5;66;03m# read until we get a non-100 response\u001b[39;00m\n\u001b[32m    324\u001b[39m \u001b[38;5;28;01mwhile\u001b[39;00m \u001b[38;5;28;01mTrue\u001b[39;00m:\n\u001b[32m--> \u001b[39m\u001b[32m325\u001b[39m     version, status, reason = \u001b[38;5;28;43mself\u001b[39;49m\u001b[43m.\u001b[49m\u001b[43m_read_status\u001b[49m\u001b[43m(\u001b[49m\u001b[43m)\u001b[49m\n\u001b[32m    326\u001b[39m     \u001b[38;5;28;01mif\u001b[39;00m status != CONTINUE:\n\u001b[32m    327\u001b[39m         \u001b[38;5;28;01mbreak\u001b[39;00m\n",
      "\u001b[36mFile \u001b[39m\u001b[32m~\\AppData\\Local\\Programs\\Python\\Python311\\Lib\\http\\client.py:286\u001b[39m, in \u001b[36mHTTPResponse._read_status\u001b[39m\u001b[34m(self)\u001b[39m\n\u001b[32m    285\u001b[39m \u001b[38;5;28;01mdef\u001b[39;00m\u001b[38;5;250m \u001b[39m\u001b[34m_read_status\u001b[39m(\u001b[38;5;28mself\u001b[39m):\n\u001b[32m--> \u001b[39m\u001b[32m286\u001b[39m     line = \u001b[38;5;28mstr\u001b[39m(\u001b[38;5;28mself\u001b[39m.fp.readline(_MAXLINE + \u001b[32m1\u001b[39m), \u001b[33m\"\u001b[39m\u001b[33miso-8859-1\u001b[39m\u001b[33m\"\u001b[39m)\n\u001b[32m    287\u001b[39m     \u001b[38;5;28;01mif\u001b[39;00m \u001b[38;5;28mlen\u001b[39m(line) > _MAXLINE:\n\u001b[32m    288\u001b[39m         \u001b[38;5;28;01mraise\u001b[39;00m LineTooLong(\u001b[33m\"\u001b[39m\u001b[33mstatus line\u001b[39m\u001b[33m\"\u001b[39m)\n",
      "\u001b[36mFile \u001b[39m\u001b[32m~\\AppData\\Local\\Programs\\Python\\Python311\\Lib\\socket.py:706\u001b[39m, in \u001b[36mSocketIO.readinto\u001b[39m\u001b[34m(self, b)\u001b[39m\n\u001b[32m    704\u001b[39m \u001b[38;5;28;01mwhile\u001b[39;00m \u001b[38;5;28;01mTrue\u001b[39;00m:\n\u001b[32m    705\u001b[39m     \u001b[38;5;28;01mtry\u001b[39;00m:\n\u001b[32m--> \u001b[39m\u001b[32m706\u001b[39m         \u001b[38;5;28;01mreturn\u001b[39;00m \u001b[38;5;28;43mself\u001b[39;49m\u001b[43m.\u001b[49m\u001b[43m_sock\u001b[49m\u001b[43m.\u001b[49m\u001b[43mrecv_into\u001b[49m\u001b[43m(\u001b[49m\u001b[43mb\u001b[49m\u001b[43m)\u001b[49m\n\u001b[32m    707\u001b[39m     \u001b[38;5;28;01mexcept\u001b[39;00m timeout:\n\u001b[32m    708\u001b[39m         \u001b[38;5;28mself\u001b[39m._timeout_occurred = \u001b[38;5;28;01mTrue\u001b[39;00m\n",
      "\u001b[36mFile \u001b[39m\u001b[32m~\\AppData\\Local\\Programs\\Python\\Python311\\Lib\\ssl.py:1314\u001b[39m, in \u001b[36mSSLSocket.recv_into\u001b[39m\u001b[34m(self, buffer, nbytes, flags)\u001b[39m\n\u001b[32m   1310\u001b[39m     \u001b[38;5;28;01mif\u001b[39;00m flags != \u001b[32m0\u001b[39m:\n\u001b[32m   1311\u001b[39m         \u001b[38;5;28;01mraise\u001b[39;00m \u001b[38;5;167;01mValueError\u001b[39;00m(\n\u001b[32m   1312\u001b[39m           \u001b[33m\"\u001b[39m\u001b[33mnon-zero flags not allowed in calls to recv_into() on \u001b[39m\u001b[38;5;132;01m%s\u001b[39;00m\u001b[33m\"\u001b[39m %\n\u001b[32m   1313\u001b[39m           \u001b[38;5;28mself\u001b[39m.\u001b[34m__class__\u001b[39m)\n\u001b[32m-> \u001b[39m\u001b[32m1314\u001b[39m     \u001b[38;5;28;01mreturn\u001b[39;00m \u001b[38;5;28;43mself\u001b[39;49m\u001b[43m.\u001b[49m\u001b[43mread\u001b[49m\u001b[43m(\u001b[49m\u001b[43mnbytes\u001b[49m\u001b[43m,\u001b[49m\u001b[43m \u001b[49m\u001b[43mbuffer\u001b[49m\u001b[43m)\u001b[49m\n\u001b[32m   1315\u001b[39m \u001b[38;5;28;01melse\u001b[39;00m:\n\u001b[32m   1316\u001b[39m     \u001b[38;5;28;01mreturn\u001b[39;00m \u001b[38;5;28msuper\u001b[39m().recv_into(buffer, nbytes, flags)\n",
      "\u001b[36mFile \u001b[39m\u001b[32m~\\AppData\\Local\\Programs\\Python\\Python311\\Lib\\ssl.py:1166\u001b[39m, in \u001b[36mSSLSocket.read\u001b[39m\u001b[34m(self, len, buffer)\u001b[39m\n\u001b[32m   1164\u001b[39m \u001b[38;5;28;01mtry\u001b[39;00m:\n\u001b[32m   1165\u001b[39m     \u001b[38;5;28;01mif\u001b[39;00m buffer \u001b[38;5;129;01mis\u001b[39;00m \u001b[38;5;129;01mnot\u001b[39;00m \u001b[38;5;28;01mNone\u001b[39;00m:\n\u001b[32m-> \u001b[39m\u001b[32m1166\u001b[39m         \u001b[38;5;28;01mreturn\u001b[39;00m \u001b[38;5;28;43mself\u001b[39;49m\u001b[43m.\u001b[49m\u001b[43m_sslobj\u001b[49m\u001b[43m.\u001b[49m\u001b[43mread\u001b[49m\u001b[43m(\u001b[49m\u001b[38;5;28;43mlen\u001b[39;49m\u001b[43m,\u001b[49m\u001b[43m \u001b[49m\u001b[43mbuffer\u001b[49m\u001b[43m)\u001b[49m\n\u001b[32m   1167\u001b[39m     \u001b[38;5;28;01melse\u001b[39;00m:\n\u001b[32m   1168\u001b[39m         \u001b[38;5;28;01mreturn\u001b[39;00m \u001b[38;5;28mself\u001b[39m._sslobj.read(\u001b[38;5;28mlen\u001b[39m)\n",
      "\u001b[31mKeyboardInterrupt\u001b[39m: "
     ]
    }
   ],
   "source": [
    "url1 = \"https://youtu.be/4uDwSsR7dJ8?si=bl6oj4hvcag8JahC\"\n",
    "url2 = \"https://youtu.be/LzYlATHKZFk?si=_LKaBFBiZ4o5tqZW\"\n",
    "save_dir = \"data/test_wav\"\n",
    "audio_data = []\n",
    "start = 220\n",
    "end = 240\n",
    "i = 1 \n",
    "\n",
    "for time in range(0, 10, 20):\n",
    "    start += time\n",
    "    end += time\n",
    "    audio = download_audio(\n",
    "        url = url2,\n",
    "        save_dir=save_dir,\n",
    "        clip_idx=i,\n",
    "        start=start,\n",
    "        end=end\n",
    "    )\n",
    "    i += 1\n",
    "    audio_data.append(audio)"
   ]
  },
  {
   "cell_type": "markdown",
   "metadata": {},
   "source": [
    "# ZONOS"
   ]
  },
  {
   "cell_type": "code",
   "execution_count": 1,
   "metadata": {},
   "outputs": [],
   "source": [
    "import torch\n",
    "torch.cuda.empty_cache()"
   ]
  },
  {
   "cell_type": "code",
   "execution_count": 2,
   "metadata": {},
   "outputs": [
    {
     "name": "stderr",
     "output_type": "stream",
     "text": [
      "c:\\Users\\user\\Documents\\GitHub\\zonos\\Lib\\site-packages\\tqdm\\auto.py:21: TqdmWarning: IProgress not found. Please update jupyter and ipywidgets. See https://ipywidgets.readthedocs.io/en/stable/user_install.html\n",
      "  from .autonotebook import tqdm as notebook_tqdm\n"
     ]
    }
   ],
   "source": [
    "import os\n",
    "import torchaudio\n",
    "from zonos.model import Zonos\n",
    "from zonos.conditioning import make_cond_dict\n",
    "import torch._dynamo  # suppress warning if needed\n",
    "\n",
    "# ❗ phonemizer용 환경변수 설정 (espeak.dll 대응)\n",
    "os.environ[\"PATH\"] += os.pathsep + r\"C:\\Program Files\\eSpeak NG\"\n",
    "os.environ[\"PHONEMIZER_ESPEAK_LIBRARY\"] = r\"C:\\Program Files\\eSpeak NG\\espeak.dll\"\n",
    "\n",
    "# ❗ torch compile 비활성화 (C++ 컴파일러 없이 실행)\n",
    "torch._dynamo.config.suppress_errors = True"
   ]
  },
  {
   "cell_type": "code",
   "execution_count": 6,
   "metadata": {},
   "outputs": [],
   "source": [
    "# 경로 설정\n",
    "path = \"data/test_wav\"\n",
    "\n",
    "# 모델 불러오기\n",
    "device = 'cuda' if torch.cuda.is_available() else 'cpu'\n",
    "model = Zonos.from_pretrained(\"Zyphra/Zonos-v0.1-transformer\", device=device)\n"
   ]
  },
  {
   "cell_type": "code",
   "execution_count": 40,
   "metadata": {},
   "outputs": [
    {
     "name": "stderr",
     "output_type": "stream",
     "text": [
      "Generating:   8%|▊         | 218/2588 [00:17<03:09, 12.49it/s]\n"
     ]
    },
    {
     "name": "stdout",
     "output_type": "stream",
     "text": [
      "🔊 sample.wav 생성 완료!\n"
     ]
    }
   ],
   "source": [
    "import os\n",
    "import torch\n",
    "import torchaudio\n",
    "import librosa\n",
    "import numpy as np\n",
    "\n",
    "# 입력 음성 로드\n",
    "wav, sampling_rate = torchaudio.load(os.path.join(path, \"LMN_2_ver.2.wav\"))\n",
    "\n",
    "# 스피커 임베딩 생성\n",
    "speaker = model.make_speaker_embedding(wav, sampling_rate)\n",
    "\n",
    "text = \"\"\"\n",
    "잠깐, 나 어디로 가는거야?\n",
    "\"\"\"\n",
    "\n",
    "cond_dict = make_cond_dict(text=text, speaker=speaker, language=\"ko\")\n",
    "conditioning = model.prepare_conditioning(cond_dict)\n",
    "\n",
    "codes = model.generate(conditioning, disable_torch_compile=True)\n",
    "wavs = model.autoencoder.decode(codes).cpu()\n",
    "\n",
    "# 원본 저장\n",
    "torchaudio.save(os.path.join(path, \"sample1.wav\"), wavs[0], model.autoencoder.sampling_rate)\n",
    "print(\"🔊 sample.wav 생성 완료!\")\n",
    "\n",
    "# # 후처리\n",
    "# sr = model.autoencoder.sampling_rate\n",
    "# audio_np = wavs[0].squeeze().numpy()  # [1, N] → [N] 보장\n",
    "\n",
    "# # 1.3배 빠르게\n",
    "# y_fast = librosa.effects.time_stretch(audio_np, rate=1.3)\n",
    "\n",
    "# # +2 반음\n",
    "# y_shifted = librosa.effects.pitch_shift(y_fast, sr=sr, n_steps=2)\n",
    "\n",
    "# # shape 조정\n",
    "# if y_shifted.ndim == 1:\n",
    "#     y_shifted = np.expand_dims(y_shifted, axis=0)  # → [1, samples]\n",
    "\n",
    "# # numpy → torch\n",
    "# y_tensor = torch.from_numpy(y_shifted).float()  # float32로 맞춤\n",
    "\n",
    "# # 저장\n",
    "# output_path = os.path.join(path, \"fast_pitchup.wav\")\n",
    "# torchaudio.save(output_path, y_tensor, sr)\n",
    "\n",
    "# print(\"⚡ 1.3배 빠르게 + 🎵 피치 +2반음 적용 완료!\")\n",
    "# print(f\"📁 저장 위치: {output_path}\")\n"
   ]
  },
  {
   "cell_type": "code",
   "execution_count": 7,
   "metadata": {},
   "outputs": [],
   "source": [
    "import datetime\n",
    "\n",
    "def zero_shot(path,file,text,name, model):\n",
    "    torch.cuda.empty_cache()\n",
    "    wav, sampling_rate = torchaudio.load(os.path.join(path, file))\n",
    "    speaker = model.make_speaker_embedding(wav, sampling_rate)\n",
    "\n",
    "    cond_dict = make_cond_dict(\n",
    "        text = text,\n",
    "        speaker = speaker,\n",
    "        language = \"ko\"\n",
    "    )\n",
    "    conditioning = model.prepare_conditioning(cond_dict)\n",
    "    codes = model.generate(conditioning, disable_torch_compile=True)\n",
    "    wavs = model.autoencoder.decode(codes).cpu()\n",
    "\n",
    "    # 결과 저장\n",
    "    torchaudio.save(os.path.join(path, f\"{name}_zero_shot.wav\"), wavs[0], model.autoencoder.sampling_rate)\n",
    "\n",
    "    # print(\"🔊 zero_shot.wav 생성 완료!\")\n",
    "    # sr = model.autoencoder.sampling_rate\n",
    "    # audio_np = wavs[0].numpy()\n",
    "\n",
    "    # # [1] 1.3배 속도 (tempo)\n",
    "    # y_fast = librosa.effects.time_stretch(audio_np, rate=1.3)\n",
    "\n",
    "    # # [2] +2 반음 pitch up\n",
    "    # y_shifted = librosa.effects.pitch_shift(y_fast, sr=sr, n_steps=2)\n",
    "\n",
    "    # # 저장\n",
    "    # final_out_path = os.path.join(path, f\"{name}_fast_pitchup.wav\")\n",
    "    # sf.write(final_out_path, y_shifted, sr)\n",
    "\n",
    "\n",
    "def few_shot(path, data, text, name, model, language=\"ko\"):\n",
    "    '''Few-shot 보이스 클로닝 - Zonos (128 dim 대응)'''\n",
    "    torch.cuda.empty_cache()\n",
    "    EXPECTED_EMBED_DIM = 128\n",
    "\n",
    "    embeddings = []\n",
    "    weights = []\n",
    "\n",
    "    for file in data:\n",
    "        wav, sampling_rate = torchaudio.load(os.path.join(path, file))\n",
    "        wav = wav.clamp(-1.0, 1.0)\n",
    "\n",
    "        emb = model.make_speaker_embedding(wav, sampling_rate).squeeze()\n",
    "\n",
    "        if emb.ndim != 1 or emb.shape[0] != EXPECTED_EMBED_DIM:\n",
    "            raise ValueError(f\"[ERROR] Invalid embedding shape from file '{file}': {emb.shape}\")\n",
    "\n",
    "        rms = torch.sqrt(torch.mean(wav ** 2)).item()\n",
    "        weights.append(rms)\n",
    "        embeddings.append(emb)\n",
    "\n",
    "    stacked_embeddings = torch.stack(embeddings)\n",
    "    device = stacked_embeddings.device\n",
    "\n",
    "    weights = torch.tensor(weights, device=device, dtype=stacked_embeddings.dtype)\n",
    "    weights = weights / weights.sum()\n",
    "    weights = weights.unsqueeze(1)  # (N, 1)\n",
    "\n",
    "    speaker_embedding = torch.sum(stacked_embeddings * weights, dim=0)  # (128,)\n",
    "    assert speaker_embedding.shape == (EXPECTED_EMBED_DIM,), f\"Invalid speaker embedding shape: {speaker_embedding.shape}\"\n",
    "\n",
    "    cond_dict = make_cond_dict(\n",
    "        text=text,\n",
    "        speaker=speaker_embedding,\n",
    "        language=language\n",
    "    )\n",
    "\n",
    "    conditioning = model.prepare_conditioning(cond_dict)\n",
    "    codes = model.generate(conditioning, disable_torch_compile=True)\n",
    "    wavs = model.autoencoder.decode(codes).cpu()\n",
    "\n",
    "    print(f\"[INFO] Embedding norm: {speaker_embedding.norm().item():.4f}\")\n",
    "    print(f\"[INFO] Output RMS: {wavs[0].pow(2).mean().sqrt().item():.4f}\")\n",
    "\n",
    "    timestamp = datetime.datetime.now().strftime(\"%Y%m%d_%H%M%S\")\n",
    "    output_filename = f\"{name}_few_shot_{timestamp}.wav\"\n",
    "    output_path = os.path.join(path, output_filename)\n",
    "    torchaudio.save(output_path, wavs[0], model.autoencoder.sampling_rate)\n",
    "\n",
    "    print(f\"🔊 {output_filename} 생성 완료!\")\n",
    "\n",
    "    if torch.cuda.is_available():\n",
    "        print(f\"[CUDA] Allocated: {torch.cuda.memory_allocated() / 1024**2:.1f} MB\")\n",
    "\n",
    "    return codes\n"
   ]
  },
  {
   "cell_type": "code",
   "execution_count": null,
   "metadata": {},
   "outputs": [],
   "source": [
    "path = \"data/test_wav\"\n",
    "file = \"LMN_2_ver.2.wav\"\n",
    "data = [f\"LMN{i}.wav\" for i in range(1,8)]\n",
    "name = \"test01\"\n",
    "text = \"\"\"\n",
    "뭐야… 이 빛은…?!! 잠깐?!!, 지금… 어디로 가는거야!!!!!!!\n",
    "\"\"\"\n",
    "\n",
    "# zero_shot(path,file, text,name, model)\n",
    "few_shot(path,data, text,name, model)"
   ]
  },
  {
   "cell_type": "code",
   "execution_count": 18,
   "metadata": {},
   "outputs": [
    {
     "name": "stderr",
     "output_type": "stream",
     "text": [
      "Generating:   8%|▊         | 210/2588 [00:05<01:07, 35.07it/s]"
     ]
    },
    {
     "name": "stdout",
     "output_type": "stream",
     "text": [
      "[INFO] Embedding norm: 28.8750\n",
      "[INFO] Output RMS: 0.0892\n",
      "🔊 test01_few_shot_20250530_121210.wav 생성 완료!\n",
      "[CUDA] Allocated: 3791.3 MB\n"
     ]
    },
    {
     "name": "stderr",
     "output_type": "stream",
     "text": [
      "\n"
     ]
    },
    {
     "data": {
      "text/plain": [
       "tensor([[[632, 847, 636,  ...,  99, 438, 698],\n",
       "         [149, 394, 185,  ..., 804, 175, 776],\n",
       "         [905, 614, 982,  ..., 636, 683, 287],\n",
       "         ...,\n",
       "         [750, 476, 922,  ..., 723, 138,  10],\n",
       "         [266, 199, 983,  ..., 190, 119, 165],\n",
       "         [377, 973, 806,  ..., 973, 159, 895]]], device='cuda:0')"
      ]
     },
     "execution_count": 18,
     "metadata": {},
     "output_type": "execute_result"
    }
   ],
   "source": [
    "import os\n",
    "\n",
    "path = \"C:\\\\Users\\\\user\\\\Desktop\\\\TTS\\\\TTS_2\"\n",
    "file = \"LMN_2_ver.2.wav\"\n",
    "data = sorted([f for f in os.listdir(path) if f.lower().endswith('.wav')])\n",
    "name = \"test01\"\n",
    "text = \"\"\"\n",
    "으..음?\n",
    "\"\"\"\n",
    "\n",
    "# zero_shot(path, file, text, name, model)\n",
    "few_shot(path, data, text, name, model)\n"
   ]
  },
  {
   "cell_type": "markdown",
   "metadata": {},
   "source": [
    "# 발표 "
   ]
  },
  {
   "cell_type": "code",
   "execution_count": 1,
   "metadata": {},
   "outputs": [
    {
     "name": "stderr",
     "output_type": "stream",
     "text": [
      "c:\\Users\\user\\Documents\\GitHub\\zonos\\Lib\\site-packages\\tqdm\\auto.py:21: TqdmWarning: IProgress not found. Please update jupyter and ipywidgets. See https://ipywidgets.readthedocs.io/en/stable/user_install.html\n",
      "  from .autonotebook import tqdm as notebook_tqdm\n"
     ]
    }
   ],
   "source": [
    "import os\n",
    "import torch\n",
    "import torchaudio\n",
    "from zonos.model import Zonos\n",
    "from zonos.conditioning import make_cond_dict\n",
    "import time\n",
    "import pandas as pd\n",
    "from tabulate import tabulate\n",
    "\n",
    "# 🔧 환경 설정\n",
    "os.environ[\"PATH\"] += os.pathsep + r\"C:\\Program Files\\eSpeak NG\"\n",
    "os.environ[\"PHONEMIZER_ESPEAK_LIBRARY\"] = r\"C:\\Program Files\\eSpeak NG\\espeak.dll\"\n",
    "torch._dynamo.config.suppress_errors = True\n",
    "\n",
    "# 📦 모델 로딩\n",
    "device = 'cuda' if torch.cuda.is_available() else 'cpu'\n",
    "model = Zonos.from_pretrained(\"Zyphra/Zonos-v0.1-transformer\", device=device)\n",
    "\n",
    "# 📁 경로 설정\n",
    "TEXT_PATH = \"../../data/txt/test_script.txt\"\n",
    "AUDIO_PATH = \"../../data/test_wav\"\n",
    "os.makedirs(AUDIO_PATH, exist_ok=True)\n",
    "\n",
    "# 🔊 참조 음성\n",
    "zero_shot_ref = \"CTS_3.wav\"\n",
    "few_shot_refs = [\"CTS_4.wav\", \"CTS_5.wav\"]\n",
    "\n",
    "# 📄 텍스트 로드 및 페이지 분할\n",
    "with open(TEXT_PATH, encoding=\"utf-8\") as f:\n",
    "    script = f.read()\n",
    "pages = script.strip().split(\"\\n\\n\")\n",
    "\n",
    "# ✅ speaker 임베딩 캐싱 (단 1회)\n",
    "zero_wav, zero_sr = torchaudio.load(os.path.join(AUDIO_PATH, zero_shot_ref))\n",
    "zero_shot_speaker = model.make_speaker_embedding(zero_wav, zero_sr)\n",
    "\n",
    "few_embeddings = []\n",
    "for file in few_shot_refs:\n",
    "    wav, sr = torchaudio.load(os.path.join(AUDIO_PATH, file))\n",
    "    emb = model.make_speaker_embedding(wav, sr)\n",
    "    few_embeddings.append(emb)\n",
    "few_shot_speaker = torch.stack(few_embeddings).mean(dim=0)\n",
    "\n",
    "# 🎙 Zero-Shot 합성\n",
    "def zero_shot(text, name):\n",
    "    torch.cuda.empty_cache()\n",
    "    cond = make_cond_dict(text=text, speaker=zero_shot_speaker, language=\"ko\")\n",
    "    conditioning = model.prepare_conditioning(cond)\n",
    "    codes = model.generate(conditioning, disable_torch_compile=True)\n",
    "    wavs = model.autoencoder.decode(codes).cpu()\n",
    "    torchaudio.save(os.path.join(AUDIO_PATH, f\"{name}_zero_shot.wav\"), wavs[0], model.autoencoder.sampling_rate)\n",
    "\n",
    "# 🎙 Few-Shot 합성\n",
    "def few_shot(text, name):\n",
    "    torch.cuda.empty_cache()\n",
    "    cond = make_cond_dict(text=text, speaker=few_shot_speaker, language=\"ko\")\n",
    "    conditioning = model.prepare_conditioning(cond)\n",
    "    codes = model.generate(conditioning, disable_torch_compile=True)\n",
    "    wavs = model.autoencoder.decode(codes).cpu()\n",
    "    torchaudio.save(os.path.join(AUDIO_PATH, f\"{name}_few_shot.wav\"), wavs[0], model.autoencoder.sampling_rate)"
   ]
  },
  {
   "cell_type": "code",
   "execution_count": 2,
   "metadata": {},
   "outputs": [
    {
     "name": "stdout",
     "output_type": "stream",
     "text": [
      "\n",
      "🎤 처리 중: page_0\n"
     ]
    },
    {
     "name": "stderr",
     "output_type": "stream",
     "text": [
      "Generating: 100%|██████████| 2588/2588 [01:53<00:00, 22.88it/s]\n"
     ]
    },
    {
     "name": "stdout",
     "output_type": "stream",
     "text": [
      "✅ Zero-Shot 완료: 143.52s\n"
     ]
    },
    {
     "name": "stderr",
     "output_type": "stream",
     "text": [
      "Generating: 100%|██████████| 2588/2588 [02:03<00:00, 21.03it/s]\n"
     ]
    },
    {
     "name": "stdout",
     "output_type": "stream",
     "text": [
      "✅ Few-Shot 완료: 125.55s\n",
      "\n",
      "🎤 처리 중: page_1\n"
     ]
    },
    {
     "name": "stderr",
     "output_type": "stream",
     "text": [
      "Generating: 100%|██████████| 2588/2588 [02:05<00:00, 20.66it/s]\n"
     ]
    },
    {
     "name": "stdout",
     "output_type": "stream",
     "text": [
      "✅ Zero-Shot 완료: 134.99s\n"
     ]
    },
    {
     "name": "stderr",
     "output_type": "stream",
     "text": [
      "Generating: 100%|██████████| 2588/2588 [01:58<00:00, 21.89it/s]\n"
     ]
    },
    {
     "name": "stdout",
     "output_type": "stream",
     "text": [
      "✅ Few-Shot 완료: 119.78s\n",
      "\n",
      "🎤 처리 중: page_2\n"
     ]
    },
    {
     "name": "stderr",
     "output_type": "stream",
     "text": [
      "Generating:  75%|███████▍  | 1937/2588 [01:18<00:26, 24.70it/s]\n"
     ]
    },
    {
     "name": "stdout",
     "output_type": "stream",
     "text": [
      "✅ Zero-Shot 완료: 79.26s\n"
     ]
    },
    {
     "name": "stderr",
     "output_type": "stream",
     "text": [
      "Generating:  82%|████████▏ | 2120/2588 [01:28<00:19, 23.99it/s]\n"
     ]
    },
    {
     "name": "stdout",
     "output_type": "stream",
     "text": [
      "✅ Few-Shot 완료: 89.5s\n",
      "\n",
      "🎤 처리 중: page_3\n"
     ]
    },
    {
     "name": "stderr",
     "output_type": "stream",
     "text": [
      "Generating: 100%|██████████| 2588/2588 [02:06<00:00, 20.53it/s]\n"
     ]
    },
    {
     "name": "stdout",
     "output_type": "stream",
     "text": [
      "✅ Zero-Shot 완료: 127.08s\n"
     ]
    },
    {
     "name": "stderr",
     "output_type": "stream",
     "text": [
      "Generating: 100%|██████████| 2588/2588 [02:05<00:00, 20.65it/s]\n"
     ]
    },
    {
     "name": "stdout",
     "output_type": "stream",
     "text": [
      "✅ Few-Shot 완료: 126.37s\n",
      "\n",
      "🎤 처리 중: page_4\n"
     ]
    },
    {
     "name": "stderr",
     "output_type": "stream",
     "text": [
      "Generating: 100%|██████████| 2588/2588 [02:15<00:00, 19.04it/s]\n"
     ]
    },
    {
     "name": "stdout",
     "output_type": "stream",
     "text": [
      "✅ Zero-Shot 완료: 137.22s\n"
     ]
    },
    {
     "name": "stderr",
     "output_type": "stream",
     "text": [
      "Generating: 100%|██████████| 2588/2588 [02:14<00:00, 19.20it/s]\n"
     ]
    },
    {
     "name": "stdout",
     "output_type": "stream",
     "text": [
      "✅ Few-Shot 완료: 136.45s\n",
      "\n",
      "🎤 처리 중: page_5\n"
     ]
    },
    {
     "name": "stderr",
     "output_type": "stream",
     "text": [
      "Generating: 100%|██████████| 2588/2588 [02:03<00:00, 20.93it/s]\n"
     ]
    },
    {
     "name": "stdout",
     "output_type": "stream",
     "text": [
      "✅ Zero-Shot 완료: 125.05s\n"
     ]
    },
    {
     "name": "stderr",
     "output_type": "stream",
     "text": [
      "Generating: 100%|██████████| 2588/2588 [02:04<00:00, 20.86it/s]\n"
     ]
    },
    {
     "name": "stdout",
     "output_type": "stream",
     "text": [
      "✅ Few-Shot 완료: 129.81s\n",
      "\n",
      "🎤 처리 중: page_6\n"
     ]
    },
    {
     "name": "stderr",
     "output_type": "stream",
     "text": [
      "Generating:  69%|██████▉   | 1791/2588 [01:13<00:32, 24.51it/s]\n"
     ]
    },
    {
     "name": "stdout",
     "output_type": "stream",
     "text": [
      "✅ Zero-Shot 완료: 73.77s\n"
     ]
    },
    {
     "name": "stderr",
     "output_type": "stream",
     "text": [
      "Generating:  66%|██████▋   | 1720/2588 [01:05<00:33, 26.17it/s]\n"
     ]
    },
    {
     "name": "stdout",
     "output_type": "stream",
     "text": [
      "✅ Few-Shot 완료: 66.38s\n",
      "\n",
      "🎤 처리 중: page_7\n"
     ]
    },
    {
     "name": "stderr",
     "output_type": "stream",
     "text": [
      "Generating: 100%|██████████| 2588/2588 [02:15<00:00, 19.11it/s]\n"
     ]
    },
    {
     "name": "stdout",
     "output_type": "stream",
     "text": [
      "✅ Zero-Shot 완료: 137.52s\n"
     ]
    },
    {
     "name": "stderr",
     "output_type": "stream",
     "text": [
      "Generating: 100%|██████████| 2588/2588 [02:14<00:00, 19.26it/s]\n"
     ]
    },
    {
     "name": "stdout",
     "output_type": "stream",
     "text": [
      "✅ Few-Shot 완료: 135.93s\n",
      "\n",
      "🎤 처리 중: page_8\n"
     ]
    },
    {
     "name": "stderr",
     "output_type": "stream",
     "text": [
      "Generating:  70%|███████   | 1817/2588 [01:12<00:30, 25.03it/s]\n"
     ]
    },
    {
     "name": "stdout",
     "output_type": "stream",
     "text": [
      "✅ Zero-Shot 완료: 73.29s\n"
     ]
    },
    {
     "name": "stderr",
     "output_type": "stream",
     "text": [
      "Generating:  77%|███████▋  | 1988/2588 [01:20<00:24, 24.77it/s]\n"
     ]
    },
    {
     "name": "stdout",
     "output_type": "stream",
     "text": [
      "✅ Few-Shot 완료: 81.02s\n",
      "\n",
      "🎤 처리 중: page_9\n"
     ]
    },
    {
     "name": "stderr",
     "output_type": "stream",
     "text": [
      "Generating: 100%|██████████| 2588/2588 [02:02<00:00, 21.19it/s]\n"
     ]
    },
    {
     "name": "stdout",
     "output_type": "stream",
     "text": [
      "✅ Zero-Shot 완료: 124.1s\n"
     ]
    },
    {
     "name": "stderr",
     "output_type": "stream",
     "text": [
      "Generating: 100%|██████████| 2588/2588 [02:02<00:00, 21.06it/s]\n"
     ]
    },
    {
     "name": "stdout",
     "output_type": "stream",
     "text": [
      "✅ Few-Shot 완료: 133.46s\n",
      "\n",
      "🎤 처리 중: page_10\n"
     ]
    },
    {
     "name": "stderr",
     "output_type": "stream",
     "text": [
      "Generating: 100%|██████████| 2588/2588 [02:06<00:00, 20.38it/s]\n"
     ]
    },
    {
     "name": "stdout",
     "output_type": "stream",
     "text": [
      "✅ Zero-Shot 완료: 128.26s\n"
     ]
    },
    {
     "name": "stderr",
     "output_type": "stream",
     "text": [
      "Generating: 100%|██████████| 2588/2588 [02:06<00:00, 20.44it/s]\n"
     ]
    },
    {
     "name": "stdout",
     "output_type": "stream",
     "text": [
      "✅ Few-Shot 완료: 128.11s\n",
      "\n",
      "🎤 처리 중: page_11\n"
     ]
    },
    {
     "name": "stderr",
     "output_type": "stream",
     "text": [
      "Generating: 100%|██████████| 2588/2588 [02:02<00:00, 21.07it/s]\n"
     ]
    },
    {
     "name": "stdout",
     "output_type": "stream",
     "text": [
      "✅ Zero-Shot 완료: 124.38s\n"
     ]
    },
    {
     "name": "stderr",
     "output_type": "stream",
     "text": [
      "Generating: 100%|██████████| 2588/2588 [02:00<00:00, 21.48it/s]\n"
     ]
    },
    {
     "name": "stdout",
     "output_type": "stream",
     "text": [
      "✅ Few-Shot 완료: 132.2s\n",
      "\n",
      "🎤 처리 중: page_12\n"
     ]
    },
    {
     "name": "stderr",
     "output_type": "stream",
     "text": [
      "Generating: 100%|██████████| 2588/2588 [02:07<00:00, 20.25it/s]\n"
     ]
    },
    {
     "name": "stdout",
     "output_type": "stream",
     "text": [
      "✅ Zero-Shot 완료: 129.16s\n"
     ]
    },
    {
     "name": "stderr",
     "output_type": "stream",
     "text": [
      "Generating: 100%|██████████| 2588/2588 [02:04<00:00, 20.75it/s]\n"
     ]
    },
    {
     "name": "stdout",
     "output_type": "stream",
     "text": [
      "✅ Few-Shot 완료: 126.78s\n",
      "\n",
      "🎤 처리 중: page_13\n"
     ]
    },
    {
     "name": "stderr",
     "output_type": "stream",
     "text": [
      "Generating:  73%|███████▎  | 1888/2588 [01:16<00:28, 24.69it/s]\n"
     ]
    },
    {
     "name": "stdout",
     "output_type": "stream",
     "text": [
      "✅ Zero-Shot 완료: 77.17s\n"
     ]
    },
    {
     "name": "stderr",
     "output_type": "stream",
     "text": [
      "Generating: 100%|██████████| 2588/2588 [01:57<00:00, 21.98it/s]\n"
     ]
    },
    {
     "name": "stdout",
     "output_type": "stream",
     "text": [
      "✅ Few-Shot 완료: 131.24s\n",
      "\n",
      "🎤 처리 중: page_14\n"
     ]
    },
    {
     "name": "stderr",
     "output_type": "stream",
     "text": [
      "Generating:  98%|█████████▊| 2535/2588 [02:02<00:02, 20.70it/s]\n"
     ]
    },
    {
     "name": "stdout",
     "output_type": "stream",
     "text": [
      "✅ Zero-Shot 완료: 124.6s\n"
     ]
    },
    {
     "name": "stderr",
     "output_type": "stream",
     "text": [
      "Generating: 100%|██████████| 2588/2588 [02:00<00:00, 21.45it/s]\n"
     ]
    },
    {
     "name": "stdout",
     "output_type": "stream",
     "text": [
      "✅ Few-Shot 완료: 133.79s\n",
      "\n",
      "🎤 처리 중: page_15\n"
     ]
    },
    {
     "name": "stderr",
     "output_type": "stream",
     "text": [
      "Generating:  95%|█████████▌| 2470/2588 [01:53<00:05, 21.85it/s]\n"
     ]
    },
    {
     "name": "stdout",
     "output_type": "stream",
     "text": [
      "✅ Zero-Shot 완료: 122.51s\n"
     ]
    },
    {
     "name": "stderr",
     "output_type": "stream",
     "text": [
      "Generating:  75%|███████▍  | 1933/2588 [01:19<00:27, 24.24it/s]\n"
     ]
    },
    {
     "name": "stdout",
     "output_type": "stream",
     "text": [
      "✅ Few-Shot 완료: 80.61s\n",
      "\n",
      "⏱️ 페이지별 생성 시간:\n",
      "\n",
      "| page    |   zero_shot |   few_shot |\n",
      "|---------|-------------|------------|\n",
      "| page_0  |      143.52 |     125.55 |\n",
      "| page_1  |      134.99 |     119.78 |\n",
      "| page_2  |       79.26 |      89.5  |\n",
      "| page_3  |      127.08 |     126.37 |\n",
      "| page_4  |      137.22 |     136.45 |\n",
      "| page_5  |      125.05 |     129.81 |\n",
      "| page_6  |       73.77 |      66.38 |\n",
      "| page_7  |      137.52 |     135.93 |\n",
      "| page_8  |       73.29 |      81.02 |\n",
      "| page_9  |      124.1  |     133.46 |\n",
      "| page_10 |      128.26 |     128.11 |\n",
      "| page_11 |      124.38 |     132.2  |\n",
      "| page_12 |      129.16 |     126.78 |\n",
      "| page_13 |       77.17 |     131.24 |\n",
      "| page_14 |      124.6  |     133.79 |\n",
      "| page_15 |      122.51 |      80.61 |\n"
     ]
    }
   ],
   "source": [
    "# 🕒 합성 실행 및 시간 측정\n",
    "results = []\n",
    "for idx, text in enumerate(pages):\n",
    "    \n",
    "    page_name = f\"page_{idx}\"\n",
    "    print(f\"\\n🎤 처리 중: {page_name}\")\n",
    "\n",
    "    # Zero-Shot\n",
    "    start = time.time()\n",
    "    try:\n",
    "        zero_shot(text, page_name)\n",
    "        zero_time = round(time.time() - start, 2)\n",
    "        print(f\"✅ Zero-Shot 완료: {zero_time}s\")\n",
    "    except Exception as e:\n",
    "        zero_time = f\"Error: {str(e)}\"\n",
    "\n",
    "    # Few-Shot\n",
    "    start = time.time()\n",
    "    try:\n",
    "        few_shot(text, page_name)\n",
    "        few_time = round(time.time() - start, 2)\n",
    "        print(f\"✅ Few-Shot 완료: {few_time}s\")\n",
    "    except Exception as e:\n",
    "        few_time = f\"Error: {str(e)}\"\n",
    "\n",
    "    results.append({\n",
    "        \"page\": page_name,\n",
    "        \"zero_shot\": zero_time,\n",
    "        \"few_shot\": few_time\n",
    "    })\n",
    "\n",
    "# 📊 결과 출력\n",
    "df = pd.DataFrame(results)\n",
    "print(\"\\n⏱️ 페이지별 생성 시간:\\n\")\n",
    "print(tabulate(df, headers='keys', tablefmt='github', showindex=False))"
   ]
  },
  {
   "cell_type": "code",
   "execution_count": null,
   "metadata": {},
   "outputs": [],
   "source": [
    "# ✅ speaker 임베딩 캐싱 (단 1회)\n",
    "zero_wav, zero_sr = torchaudio.load(os.path.join(AUDIO_PATH, zero_shot_ref))\n",
    "zero_shot_speaker = model.make_speaker_embedding(zero_wav, zero_sr)\n",
    "\n",
    "few_embeddings = []\n",
    "for file in few_shot_refs:\n",
    "    wav, sr = torchaudio.load(os.path.join(AUDIO_PATH, file))\n",
    "    emb = model.make_speaker_embedding(wav, sr)\n",
    "    few_embeddings.append(emb)\n",
    "few_shot_speaker = torch.stack(few_embeddings).mean(dim=0)\n",
    "\n",
    "# 🎙 Zero-Shot 합성\n",
    "def zero_shot(text, name):\n",
    "    torch.cuda.empty_cache()\n",
    "    cond = make_cond_dict(text=text, speaker=zero_shot_speaker, language=\"ko\")\n",
    "    conditioning = model.prepare_conditioning(cond)\n",
    "    codes = model.generate(conditioning, disable_torch_compile=True)\n",
    "    wavs = model.autoencoder.decode(codes).cpu()\n",
    "    torchaudio.save(os.path.join(AUDIO_PATH, f\"{name}_zero_shot.wav\"), wavs[0], model.autoencoder.sampling_rate)\n",
    "\n",
    "# 🎙 Few-Shot 합성\n",
    "def few_shot(text, name):\n",
    "    torch.cuda.empty_cache()\n",
    "    cond = make_cond_dict(text=text, speaker=few_shot_speaker, language=\"ko\")\n",
    "    conditioning = model.prepare_conditioning(cond)\n",
    "    codes = model.generate(conditioning, disable_torch_compile=True)\n",
    "    wavs = model.autoencoder.decode(codes).cpu()\n",
    "    torchaudio.save(os.path.join(AUDIO_PATH, f\"{name}_few_shot.wav\"), wavs[0], model.autoencoder.sampling_rate)\n",
    "\n",
    "# 🕒 합성 실행 및 시간 측정\n",
    "results = []\n",
    "for idx, text in enumerate(pages):\n",
    "    page_name = f\"page_{idx}\"\n",
    "    print(f\"\\n🎤 처리 중: {page_name}\")\n",
    "\n",
    "    # Zero-Shot\n",
    "    start = time.time()\n",
    "    try:\n",
    "        zero_shot(text, page_name)\n",
    "        zero_time = round(time.time() - start, 2)\n",
    "        print(f\"✅ Zero-Shot 완료: {zero_time}s\")\n",
    "    except Exception as e:\n",
    "        zero_time = f\"Error: {str(e)}\"\n",
    "\n",
    "    # Few-Shot\n",
    "    start = time.time()\n",
    "    try:\n",
    "        few_shot(text, page_name)\n",
    "        few_time = round(time.time() - start, 2)\n",
    "        print(f\"✅ Few-Shot 완료: {few_time}s\")\n",
    "    except Exception as e:\n",
    "        few_time = f\"Error: {str(e)}\"\n",
    "\n",
    "    results.append({\n",
    "        \"page\": page_name,\n",
    "        \"zero_shot\": zero_time,\n",
    "        \"few_shot\": few_time\n",
    "    })\n",
    "\n",
    "# 📊 결과 출력\n",
    "df = pd.DataFrame(results)\n",
    "print(\"\\n⏱️ 페이지별 생성 시간:\\n\")\n",
    "print(tabulate(df, headers='keys', tablefmt='github', showindex=False))"
   ]
  },
  {
   "cell_type": "markdown",
   "metadata": {},
   "source": [
    "# ZONOS 웹에서 gradio로 부르기"
   ]
  },
  {
   "cell_type": "code",
   "execution_count": null,
   "metadata": {},
   "outputs": [],
   "source": [
    "from gradio_client import Client\n",
    "from scipy.io.wavfile import write as write_wav\n",
    "import numpy as np\n",
    "import soundfile as sf  # for saving the audio\n",
    "import numpy as np\n",
    "# 1. Gradio 앱 URL (예: 로컬 또는 share URL)\n",
    "client = Client(\"http://localhost:7860\")  # 또는 \"https://xxxx.gradio.live\"\n",
    "\n",
    "# 2. generate_audio에 맞게 입력값 설정\n",
    "result = client.predict(\n",
    "    \"Zyphra/Zonos-v0.1-transformer\",  # model_choice\n",
    "    \"안녕하세요. 반갑습니다. 오늘 수업할 내용을 말씀드리겠습니다.\",            # text\n",
    "    \"ko\",                          # language\n",
    "    None,                             # speaker_audio (None = 사용 안 함)\n",
    "    None,                             # prefix_audio (None = 사용 안 함)\n",
    "    1.0, 0.05, 0.05, 0.05, 0.05, 0.05, 0.1, 0.2,  # emotion sliders\n",
    "    0.78,                             # vq_single\n",
    "    24000,                            # fmax\n",
    "    45.0,                             # pitch_std\n",
    "    15.0,                             # speaking_rate\n",
    "    4.0,                              # dnsmos\n",
    "    False,                            # speaker_noised\n",
    "    2.0,                              # cfg_scale\n",
    "    0,                              # top_p\n",
    "    0,                                # top_k (min_k로 전달됨)\n",
    "    0,                              # min_p\n",
    "    0.5, 0.4, 0.0,                    # linear, confidence, quadratic\n",
    "    42,                               # seed\n",
    "    False,                            # randomize_seed\n",
    "    [\"emotion\"],                     # unconditional_keys\n",
    "    api_name=\"/generate_audio\"              # 예: 함수가 자동 등록된 이름\n",
    ")\n",
    "\n",
    "\n",
    "import shutil\n",
    "\n",
    "src = result[0]\n",
    "dst = \"test.wav\"\n",
    "\n",
    "shutil.copyfile(src, dst)"
   ]
  },
  {
   "cell_type": "markdown",
   "metadata": {},
   "source": [
    "# FASTAPI & STREAMLIT"
   ]
  },
  {
   "cell_type": "code",
   "execution_count": null,
   "metadata": {},
   "outputs": [],
   "source": [
    "# utils.py\n",
    "import re\n",
    "from typing import List\n",
    "from collections import Counter\n",
    "from sklearn.metrics.pairwise import cosine_similarity\n",
    "from langchain_openai import OpenAIEmbeddings\n",
    "\n",
    "def extract_top_similar_words(text: str, keywords: List[str], top_k: int = 10) -> List[str]:\n",
    "    # 텍스트에서 단어 토큰 추출\n",
    "    words = re.findall(r'\\w+', text)\n",
    "    word_counts = Counter(words)\n",
    "    unique_words = list(word_counts.keys())\n",
    "\n",
    "    # 임베딩\n",
    "    embedder = OpenAIEmbeddings()\n",
    "    word_embeddings = embedder.embed_documents(unique_words)\n",
    "    keyword_embeddings = [embedder.embed_query(k) for k in keywords]\n",
    "\n",
    "    # 코사인 유사도 계산\n",
    "    similarities = {}\n",
    "    for word, emb in zip(unique_words, word_embeddings):\n",
    "        sim_scores = [cosine_similarity([emb], [k_emb])[0][0] for k_emb in keyword_embeddings]\n",
    "        similarities[word] = max(sim_scores)\n",
    "\n",
    "    # 상위 N개 단어 반환\n",
    "    top_similar = sorted(similarities.items(), key=lambda x: x[1], reverse=True)[:top_k]\n",
    "    return [{\"word\": word, \"similarity\": round(score, 4)} for word, score in top_similar]\n"
   ]
  },
  {
   "cell_type": "code",
   "execution_count": null,
   "metadata": {},
   "outputs": [],
   "source": [
    "# script_generate.py\n",
    "from utils import extract_top_similar_words\n",
    "\n",
    "def combine_scripts_and_extract_keywords(scripts: List[str], keywords: List[str]):\n",
    "    \"\"\"전체 대본 통합 및 유사 단어 추출\"\"\"\n",
    "    full_script = \"\\n\\n\".join(scripts)\n",
    "    similar_words = extract_top_similar_words(full_script, keywords, top_k=10)\n",
    "    return {\n",
    "        \"full_script\": full_script,\n",
    "        \"top_similar_words\": similar_words\n",
    "    }\n"
   ]
  },
  {
   "cell_type": "code",
   "execution_count": null,
   "metadata": {},
   "outputs": [],
   "source": [
    "# routes.py\n",
    "from fastapi import APIRouter, Body\n",
    "from typing import List\n",
    "from core.script_generate import combine_scripts_and_extract_keywords\n",
    "\n",
    "@router.post(\"/script/combine-and-analyze\")\n",
    "async def combine_and_analyze(\n",
    "    scripts: List[str] = Body(...),\n",
    "    keywords: List[str] = Body(...)\n",
    "):  \n",
    "    try:\n",
    "        result = combine_scripts_and_extract_keywords(scripts, keywords)\n",
    "        return result\n",
    "    except Exception as e:\n",
    "        return {\"error\": str(e)}\n"
   ]
  }
 ],
 "metadata": {
  "kernelspec": {
   "display_name": "zonos",
   "language": "python",
   "name": "python3"
  },
  "language_info": {
   "codemirror_mode": {
    "name": "ipython",
    "version": 3
   },
   "file_extension": ".py",
   "mimetype": "text/x-python",
   "name": "python",
   "nbconvert_exporter": "python",
   "pygments_lexer": "ipython3",
   "version": "3.11.9"
  }
 },
 "nbformat": 4,
 "nbformat_minor": 2
}

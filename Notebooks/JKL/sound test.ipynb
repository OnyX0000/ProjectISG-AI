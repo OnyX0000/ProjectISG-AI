{
 "cells": [
  {
   "cell_type": "code",
   "execution_count": null,
   "id": "65538049",
   "metadata": {},
   "outputs": [],
   "source": [
    "import os\n",
    "import torch\n",
    "import scipy\n",
    "from datetime import datetime\n",
    "from diffusers import AudioLDM2Pipeline\n",
    "from dotenv import load_dotenv\n",
    "from huggingface_hub import whoami"
   ]
  },
  {
   "cell_type": "markdown",
   "id": "3f076005",
   "metadata": {},
   "source": [
    "## 1. Audioldm2"
   ]
  },
  {
   "cell_type": "code",
   "execution_count": null,
   "id": "1552c567",
   "metadata": {},
   "outputs": [],
   "source": [
    "load_dotenv(dotenv_path=os.path.join(\"..\", \".env\"))\n",
    "token = os.getenv(\"HUGGING_FACE_HUB_TOKEN\")\n",
    "\n",
    "# 실제 인증 테스트\n",
    "print(\"🔍 인증된 사용자 정보:\")\n",
    "whoami(token=token)"
   ]
  },
  {
   "cell_type": "code",
   "execution_count": 10,
   "id": "564a0bdd",
   "metadata": {},
   "outputs": [
    {
     "name": "stderr",
     "output_type": "stream",
     "text": [
      "Loading pipeline components...: 100%|██████████| 11/11 [00:02<00:00,  4.88it/s]\n",
      "Expected types for language_model: (<class 'transformers.models.gpt2.modeling_gpt2.GPT2LMHeadModel'>,), got <class 'transformers.models.gpt2.modeling_gpt2.GPT2Model'>.\n",
      "100%|██████████| 200/200 [04:37<00:00,  1.39s/it]\n"
     ]
    }
   ],
   "source": [
    "import scipy\n",
    "import torch\n",
    "from diffusers import AudioLDM2Pipeline\n",
    "\n",
    "# load the pipeline\n",
    "repo_id = \"cvssp/audioldm2\"\n",
    "pipe = AudioLDM2Pipeline.from_pretrained(repo_id, torch_dtype=torch.float16)\n",
    "pipe = pipe.to(\"cuda\")\n",
    "\n",
    "# define the prompts\n",
    "prompt = \"Soft thuds of moist soil being gently pressed as small seeds are planted, accompanied by subtle rustling of leaves and distant chirping of birds in a quiet garden.\"\n",
    "negative_prompt = \"Low quality.\"\n",
    "\n",
    "# set the seed\n",
    "generator = torch.Generator(\"cuda\").manual_seed(0)\n",
    "\n",
    "# run the generation\n",
    "audio = pipe(\n",
    "    prompt,\n",
    "    negative_prompt=negative_prompt,\n",
    "    num_inference_steps=200,\n",
    "    audio_length_in_s=3.0,\n",
    "    num_waveforms_per_prompt=3,\n",
    ").audios\n",
    "\n",
    "# save the best audio sample (index 0) as a .wav file\n",
    "scipy.io.wavfile.write(\"seeds_test3.wav\", rate=16000, data=audio[0])"
   ]
  },
  {
   "cell_type": "markdown",
   "id": "c89454f1",
   "metadata": {},
   "source": [
    "## 2. MusicGen"
   ]
  },
  {
   "cell_type": "code",
   "execution_count": null,
   "id": "be012242",
   "metadata": {},
   "outputs": [],
   "source": [
    "# !pip install -U git+https://github.com/facebookresearch/audiocraft#egg=audiocraft"
   ]
  },
  {
   "cell_type": "code",
   "execution_count": null,
   "id": "656483ac",
   "metadata": {},
   "outputs": [
    {
     "name": "stderr",
     "output_type": "stream",
     "text": [
      "c:\\Users\\user\\miniconda3\\envs\\audioldm2_env\\lib\\site-packages\\huggingface_hub\\file_download.py:144: UserWarning: `huggingface_hub` cache-system uses symlinks by default to efficiently store duplicated files but your machine does not support them in C:\\Users\\user\\.cache\\huggingface\\hub\\models--facebook--musicgen-large. Caching files will still work but in a degraded version that might require more space on your disk. This warning can be disabled by setting the `HF_HUB_DISABLE_SYMLINKS_WARNING` environment variable. For more details, see https://huggingface.co/docs/huggingface_hub/how-to-cache#limitations.\n",
      "To support symlinks on Windows, you either need to activate Developer Mode or to run Python as an administrator. In order to activate developer mode, see this article: https://docs.microsoft.com/en-us/windows/apps/get-started/enable-your-device-for-development\n",
      "  warnings.warn(message)\n",
      "c:\\Users\\user\\miniconda3\\envs\\audioldm2_env\\lib\\site-packages\\torch\\nn\\utils\\weight_norm.py:30: UserWarning: torch.nn.utils.weight_norm is deprecated in favor of torch.nn.utils.parametrizations.weight_norm.\n",
      "  warnings.warn(\"torch.nn.utils.weight_norm is deprecated in favor of torch.nn.utils.parametrizations.weight_norm.\")\n",
      "CLIPPING 0.wav happening with proba (a bit of clipping is okay): 0.0017812500009313226 maximum scale:  1.1532424688339233\n"
     ]
    }
   ],
   "source": [
    "import torchaudio\n",
    "from audiocraft.models import MusicGen\n",
    "from audiocraft.data.audio import audio_write\n",
    "\n",
    "# 모델 로드\n",
    "model = MusicGen.get_pretrained('facebook/musicgen-large')\n",
    "model.set_generation_params(duration=8)  # 8초 길이의 오디오 생성\n",
    "\n",
    "# 프롬프트 설정\n",
    "descriptions = ['lo-fi music with a soothing melody']\n",
    "\n",
    "# 오디오 생성\n",
    "wav = model.generate(descriptions)\n",
    "\n",
    "# 오디오 저장\n",
    "for idx, one_wav in enumerate(wav):\n",
    "    audio_write(f'{idx}.wav', one_wav.cpu(), model.sample_rate, strategy=\"loudness\")"
   ]
  },
  {
   "cell_type": "code",
   "execution_count": 16,
   "id": "db498557",
   "metadata": {},
   "outputs": [
    {
     "name": "stderr",
     "output_type": "stream",
     "text": [
      "c:\\Users\\user\\miniconda3\\envs\\audioldm2_env\\lib\\site-packages\\audiocraft\\models\\loaders.py:71: FutureWarning: You are using `torch.load` with `weights_only=False` (the current default value), which uses the default pickle module implicitly. It is possible to construct malicious pickle data which will execute arbitrary code during unpickling (See https://github.com/pytorch/pytorch/blob/main/SECURITY.md#untrusted-models for more details). In a future release, the default value for `weights_only` will be flipped to `True`. This limits the functions that could be executed during unpickling. Arbitrary objects will no longer be allowed to be loaded via this mode unless they are explicitly allowlisted by the user via `torch.serialization.add_safe_globals`. We recommend you start setting `weights_only=True` for any use case where you don't have full control of the loaded file. Please open an issue on GitHub for any issues related to this experimental feature.\n",
      "  return torch.load(file, map_location=device)\n",
      "c:\\Users\\user\\miniconda3\\envs\\audioldm2_env\\lib\\site-packages\\audiocraft\\models\\loaders.py:71: FutureWarning: You are using `torch.load` with `weights_only=False` (the current default value), which uses the default pickle module implicitly. It is possible to construct malicious pickle data which will execute arbitrary code during unpickling (See https://github.com/pytorch/pytorch/blob/main/SECURITY.md#untrusted-models for more details). In a future release, the default value for `weights_only` will be flipped to `True`. This limits the functions that could be executed during unpickling. Arbitrary objects will no longer be allowed to be loaded via this mode unless they are explicitly allowlisted by the user via `torch.serialization.add_safe_globals`. We recommend you start setting `weights_only=True` for any use case where you don't have full control of the loaded file. Please open an issue on GitHub for any issues related to this experimental feature.\n",
      "  return torch.load(file, map_location=device)\n",
      "c:\\Users\\user\\miniconda3\\envs\\audioldm2_env\\lib\\site-packages\\torch\\nn\\utils\\weight_norm.py:143: FutureWarning: `torch.nn.utils.weight_norm` is deprecated in favor of `torch.nn.utils.parametrizations.weight_norm`.\n",
      "  WeightNorm.apply(module, name, dim)\n"
     ]
    },
    {
     "name": "stdout",
     "output_type": "stream",
     "text": [
      "✅ 저장 완료: musicgen_stew_bubbling.wav\n"
     ]
    },
    {
     "name": "stderr",
     "output_type": "stream",
     "text": [
      "CLIPPING musicgen_stew_bubbling happening with proba (a bit of clipping is okay): 0.0062890625558793545 maximum scale:  1.4899888038635254\n"
     ]
    }
   ],
   "source": [
    "from audiocraft.models import MusicGen\n",
    "from audiocraft.data.audio import audio_write\n",
    "\n",
    "# 모델 로드 (사전 학습된 large 모델)\n",
    "model = MusicGen.get_pretrained('facebook/musicgen-large')\n",
    "model.set_generation_params(duration=8)  # 생성할 길이 (초)\n",
    "\n",
    "# 🎯 프롬프트\n",
    "descriptions = [\"The ambient sound of a kitchen stew gently boiling, with soft bubbling and simmering, cozy atmosphere\"]\n",
    "\n",
    "# 오디오 생성\n",
    "wav = model.generate(descriptions)\n",
    "\n",
    "# 저장\n",
    "audio_write(\"musicgen_stew_bubbling\", wav[0].cpu(), model.sample_rate, strategy=\"loudness\")\n",
    "print(\"✅ 저장 완료: musicgen_stew_bubbling.wav\")\n"
   ]
  },
  {
   "cell_type": "markdown",
   "id": "6635d94c",
   "metadata": {},
   "source": [
    "## 3. AudioGen"
   ]
  },
  {
   "cell_type": "code",
   "execution_count": null,
   "id": "ecc4fb2f",
   "metadata": {},
   "outputs": [],
   "source": [
    "# import torchaudio\n",
    "# from audiocraft.models import AudioGen\n",
    "# from audiocraft.data.audio import audio_write\n",
    "\n",
    "# # 모델 로드\n",
    "# model = AudioGen.get_pretrained('facebook/audiogen-medium')\n",
    "# model.set_generation_params(duration=5)  # 5초 길이의 오디오 생성\n",
    "\n",
    "# # 프롬프트 설정\n",
    "# descriptions = ['planting seeds', '']\n",
    "\n",
    "# # 오디오 생성\n",
    "# wav = model.generate(descriptions)\n",
    "\n",
    "# # 오디오 저장\n",
    "# for idx, one_wav in enumerate(wav):\n",
    "#     audio_write(f'{idx}.wav', one_wav.cpu(), model.sample_rate, strategy=\"loudness\")"
   ]
  },
  {
   "cell_type": "code",
   "execution_count": 14,
   "id": "b0135366",
   "metadata": {},
   "outputs": [
    {
     "name": "stderr",
     "output_type": "stream",
     "text": [
      "c:\\Users\\user\\miniconda3\\envs\\audioldm2_env\\lib\\site-packages\\audiocraft\\models\\loaders.py:71: FutureWarning: You are using `torch.load` with `weights_only=False` (the current default value), which uses the default pickle module implicitly. It is possible to construct malicious pickle data which will execute arbitrary code during unpickling (See https://github.com/pytorch/pytorch/blob/main/SECURITY.md#untrusted-models for more details). In a future release, the default value for `weights_only` will be flipped to `True`. This limits the functions that could be executed during unpickling. Arbitrary objects will no longer be allowed to be loaded via this mode unless they are explicitly allowlisted by the user via `torch.serialization.add_safe_globals`. We recommend you start setting `weights_only=True` for any use case where you don't have full control of the loaded file. Please open an issue on GitHub for any issues related to this experimental feature.\n",
      "  return torch.load(file, map_location=device)\n",
      "c:\\Users\\user\\miniconda3\\envs\\audioldm2_env\\lib\\site-packages\\torch\\nn\\utils\\weight_norm.py:143: FutureWarning: `torch.nn.utils.weight_norm` is deprecated in favor of `torch.nn.utils.parametrizations.weight_norm`.\n",
      "  WeightNorm.apply(module, name, dim)\n"
     ]
    },
    {
     "name": "stdout",
     "output_type": "stream",
     "text": [
      "✅ 저장 완료: boiling_pot_v1\n",
      "✅ 저장 완료: boiling_pot_v2\n"
     ]
    },
    {
     "name": "stderr",
     "output_type": "stream",
     "text": [
      "CLIPPING boiling_pot_v3 happening with proba (a bit of clipping is okay): 0.2407708317041397 maximum scale:  4.6316046714782715\n"
     ]
    },
    {
     "name": "stdout",
     "output_type": "stream",
     "text": [
      "✅ 저장 완료: boiling_pot_v3\n",
      "✅ 저장 완료: boiling_pot_v4\n"
     ]
    }
   ],
   "source": [
    "# from audiocraft.models import AudioGen\n",
    "# from audiocraft.data.audio import audio_write\n",
    "\n",
    "# # 모델 로드\n",
    "# model = AudioGen.get_pretrained(\"facebook/audiogen-medium\")\n",
    "\n",
    "# # 생성할 오디오 길이 설정\n",
    "# model.set_generation_params(duration=4)\n",
    "\n",
    "# # 프롬프트\n",
    "# prompt = [\n",
    "#     \"Soft thuds of moist soil being gently pressed as small seeds are planted, accompanied by subtle rustling of leaves and distant chirping of birds in a quiet garden.\"\n",
    "# ]\n",
    "\n",
    "# # 오디오 생성\n",
    "# wav_outputs = model.generate(prompt)\n",
    "\n",
    "# # 저장\n",
    "# audio_write(\"planting_seeds_test\", wav_outputs[0].cpu(), model.sample_rate, strategy=\"loudness\")\n",
    "# print(\"✅ 오디오 생성 완료!\")\n",
    "\n",
    "from audiocraft.models import AudioGen\n",
    "from audiocraft.data.audio import audio_write\n",
    "import torch\n",
    "\n",
    "# 모델 로드\n",
    "model = AudioGen.get_pretrained(\"facebook/audiogen-medium\")\n",
    "model.set_generation_params(duration=3)\n",
    "\n",
    "# 프롬프트\n",
    "prompt = [\"In-game cooking sound of a hot stew boiling and bubbling in a pot, with subtle steam hissing and soft pops, perfect for a cozy kitchen environment in a casual simulation game.\"]\n",
    "\n",
    "# 오디오 생성 & 저장 (4개)\n",
    "for i in range(4):\n",
    "    wav = model.generate(prompt)[0].cpu()\n",
    "    filename = f\"boiling_pot_v{i+1}\"\n",
    "    audio_write(filename, wav, model.sample_rate, strategy=\"loudness\")\n",
    "    print(f\"✅ 저장 완료: {filename}\")"
   ]
  },
  {
   "cell_type": "code",
   "execution_count": 1,
   "id": "6108302d",
   "metadata": {},
   "outputs": [
    {
     "name": "stdout",
     "output_type": "stream",
     "text": [
      "🔥 CUDA 가능? True\n",
      "🧠 GPU 사용 중: NVIDIA GeForce RTX 4070 Laptop GPU\n"
     ]
    }
   ],
   "source": [
    "import torch\n",
    "print(\"🔥 CUDA 가능?\", torch.cuda.is_available())\n",
    "print(\"🧠 GPU 사용 중:\", torch.cuda.get_device_name(0))"
   ]
  },
  {
   "cell_type": "markdown",
   "id": "3900017f",
   "metadata": {},
   "source": [
    "## 4. DiffSound"
   ]
  },
  {
   "cell_type": "code",
   "execution_count": null,
   "id": "40e4901d",
   "metadata": {},
   "outputs": [],
   "source": []
  }
 ],
 "metadata": {
  "kernelspec": {
   "display_name": "env311_langchain",
   "language": "python",
   "name": "python3"
  },
  "language_info": {
   "codemirror_mode": {
    "name": "ipython",
    "version": 3
   },
   "file_extension": ".py",
   "mimetype": "text/x-python",
   "name": "python",
   "nbconvert_exporter": "python",
   "pygments_lexer": "ipython3",
   "version": "3.11.11"
  }
 },
 "nbformat": 4,
 "nbformat_minor": 5
}
